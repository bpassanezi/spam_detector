{
 "cells": [
  {
   "cell_type": "markdown",
   "metadata": {},
   "source": [
    "## Importando as bibliotecas "
   ]
  },
  {
   "cell_type": "code",
   "execution_count": 1,
   "metadata": {},
   "outputs": [],
   "source": [
    "import pandas as pd\n",
    "import matplotlib.pyplot as plt\n",
    "import matplotlib.patches as mpatches\n",
    "import numpy as np\n",
    "import seaborn as sns\n",
    "import numpy as np"
   ]
  },
  {
   "cell_type": "markdown",
   "metadata": {},
   "source": [
    "Leitura do arquivo com os dados de treino"
   ]
  },
  {
   "cell_type": "code",
   "execution_count": 2,
   "metadata": {},
   "outputs": [
    {
     "data": {
      "text/html": [
       "<div>\n",
       "<style scoped>\n",
       "    .dataframe tbody tr th:only-of-type {\n",
       "        vertical-align: middle;\n",
       "    }\n",
       "\n",
       "    .dataframe tbody tr th {\n",
       "        vertical-align: top;\n",
       "    }\n",
       "\n",
       "    .dataframe thead th {\n",
       "        text-align: right;\n",
       "    }\n",
       "</style>\n",
       "<table border=\"1\" class=\"dataframe\">\n",
       "  <thead>\n",
       "    <tr style=\"text-align: right;\">\n",
       "      <th></th>\n",
       "      <th>word_freq_make</th>\n",
       "      <th>word_freq_address</th>\n",
       "      <th>word_freq_all</th>\n",
       "      <th>word_freq_3d</th>\n",
       "      <th>word_freq_our</th>\n",
       "      <th>word_freq_over</th>\n",
       "      <th>word_freq_remove</th>\n",
       "      <th>word_freq_internet</th>\n",
       "      <th>word_freq_order</th>\n",
       "      <th>word_freq_mail</th>\n",
       "      <th>...</th>\n",
       "      <th>char_freq_(</th>\n",
       "      <th>char_freq_[</th>\n",
       "      <th>char_freq_!</th>\n",
       "      <th>char_freq_$</th>\n",
       "      <th>char_freq_#</th>\n",
       "      <th>capital_run_length_average</th>\n",
       "      <th>capital_run_length_longest</th>\n",
       "      <th>capital_run_length_total</th>\n",
       "      <th>ham</th>\n",
       "      <th>Id</th>\n",
       "    </tr>\n",
       "  </thead>\n",
       "  <tbody>\n",
       "    <tr>\n",
       "      <th>0</th>\n",
       "      <td>0.0</td>\n",
       "      <td>14.28</td>\n",
       "      <td>0.0</td>\n",
       "      <td>0.0</td>\n",
       "      <td>0.00</td>\n",
       "      <td>0.0</td>\n",
       "      <td>0.0</td>\n",
       "      <td>0.00</td>\n",
       "      <td>0.0</td>\n",
       "      <td>0.00</td>\n",
       "      <td>...</td>\n",
       "      <td>0.000</td>\n",
       "      <td>0.0</td>\n",
       "      <td>0.000</td>\n",
       "      <td>0.000</td>\n",
       "      <td>0.0</td>\n",
       "      <td>1.800</td>\n",
       "      <td>5</td>\n",
       "      <td>9</td>\n",
       "      <td>True</td>\n",
       "      <td>1947</td>\n",
       "    </tr>\n",
       "    <tr>\n",
       "      <th>1</th>\n",
       "      <td>0.0</td>\n",
       "      <td>0.00</td>\n",
       "      <td>1.0</td>\n",
       "      <td>0.0</td>\n",
       "      <td>0.50</td>\n",
       "      <td>0.0</td>\n",
       "      <td>0.0</td>\n",
       "      <td>0.00</td>\n",
       "      <td>0.0</td>\n",
       "      <td>0.50</td>\n",
       "      <td>...</td>\n",
       "      <td>0.357</td>\n",
       "      <td>0.0</td>\n",
       "      <td>0.892</td>\n",
       "      <td>0.000</td>\n",
       "      <td>0.0</td>\n",
       "      <td>2.000</td>\n",
       "      <td>19</td>\n",
       "      <td>172</td>\n",
       "      <td>False</td>\n",
       "      <td>2159</td>\n",
       "    </tr>\n",
       "    <tr>\n",
       "      <th>2</th>\n",
       "      <td>0.0</td>\n",
       "      <td>0.00</td>\n",
       "      <td>0.0</td>\n",
       "      <td>0.0</td>\n",
       "      <td>0.00</td>\n",
       "      <td>0.0</td>\n",
       "      <td>0.0</td>\n",
       "      <td>1.29</td>\n",
       "      <td>0.0</td>\n",
       "      <td>0.43</td>\n",
       "      <td>...</td>\n",
       "      <td>0.124</td>\n",
       "      <td>0.0</td>\n",
       "      <td>0.310</td>\n",
       "      <td>0.062</td>\n",
       "      <td>0.0</td>\n",
       "      <td>1.477</td>\n",
       "      <td>8</td>\n",
       "      <td>65</td>\n",
       "      <td>False</td>\n",
       "      <td>4223</td>\n",
       "    </tr>\n",
       "    <tr>\n",
       "      <th>3</th>\n",
       "      <td>0.0</td>\n",
       "      <td>0.00</td>\n",
       "      <td>0.0</td>\n",
       "      <td>0.0</td>\n",
       "      <td>0.00</td>\n",
       "      <td>0.0</td>\n",
       "      <td>0.0</td>\n",
       "      <td>0.00</td>\n",
       "      <td>0.0</td>\n",
       "      <td>0.00</td>\n",
       "      <td>...</td>\n",
       "      <td>0.000</td>\n",
       "      <td>0.0</td>\n",
       "      <td>0.444</td>\n",
       "      <td>0.000</td>\n",
       "      <td>0.0</td>\n",
       "      <td>2.800</td>\n",
       "      <td>7</td>\n",
       "      <td>28</td>\n",
       "      <td>True</td>\n",
       "      <td>2624</td>\n",
       "    </tr>\n",
       "    <tr>\n",
       "      <th>4</th>\n",
       "      <td>0.0</td>\n",
       "      <td>0.00</td>\n",
       "      <td>0.0</td>\n",
       "      <td>0.0</td>\n",
       "      <td>1.17</td>\n",
       "      <td>0.0</td>\n",
       "      <td>0.0</td>\n",
       "      <td>0.00</td>\n",
       "      <td>0.0</td>\n",
       "      <td>1.17</td>\n",
       "      <td>...</td>\n",
       "      <td>0.000</td>\n",
       "      <td>0.0</td>\n",
       "      <td>0.000</td>\n",
       "      <td>0.000</td>\n",
       "      <td>0.0</td>\n",
       "      <td>1.551</td>\n",
       "      <td>10</td>\n",
       "      <td>45</td>\n",
       "      <td>True</td>\n",
       "      <td>2743</td>\n",
       "    </tr>\n",
       "  </tbody>\n",
       "</table>\n",
       "<p>5 rows × 59 columns</p>\n",
       "</div>"
      ],
      "text/plain": [
       "   word_freq_make  word_freq_address  word_freq_all  word_freq_3d  \\\n",
       "0             0.0              14.28            0.0           0.0   \n",
       "1             0.0               0.00            1.0           0.0   \n",
       "2             0.0               0.00            0.0           0.0   \n",
       "3             0.0               0.00            0.0           0.0   \n",
       "4             0.0               0.00            0.0           0.0   \n",
       "\n",
       "   word_freq_our  word_freq_over  word_freq_remove  word_freq_internet  \\\n",
       "0           0.00             0.0               0.0                0.00   \n",
       "1           0.50             0.0               0.0                0.00   \n",
       "2           0.00             0.0               0.0                1.29   \n",
       "3           0.00             0.0               0.0                0.00   \n",
       "4           1.17             0.0               0.0                0.00   \n",
       "\n",
       "   word_freq_order  word_freq_mail  ...   char_freq_(  char_freq_[  \\\n",
       "0              0.0            0.00  ...         0.000          0.0   \n",
       "1              0.0            0.50  ...         0.357          0.0   \n",
       "2              0.0            0.43  ...         0.124          0.0   \n",
       "3              0.0            0.00  ...         0.000          0.0   \n",
       "4              0.0            1.17  ...         0.000          0.0   \n",
       "\n",
       "   char_freq_!  char_freq_$  char_freq_#  capital_run_length_average  \\\n",
       "0        0.000        0.000          0.0                       1.800   \n",
       "1        0.892        0.000          0.0                       2.000   \n",
       "2        0.310        0.062          0.0                       1.477   \n",
       "3        0.444        0.000          0.0                       2.800   \n",
       "4        0.000        0.000          0.0                       1.551   \n",
       "\n",
       "   capital_run_length_longest  capital_run_length_total    ham    Id  \n",
       "0                           5                         9   True  1947  \n",
       "1                          19                       172  False  2159  \n",
       "2                           8                        65  False  4223  \n",
       "3                           7                        28   True  2624  \n",
       "4                          10                        45   True  2743  \n",
       "\n",
       "[5 rows x 59 columns]"
      ]
     },
     "execution_count": 2,
     "metadata": {},
     "output_type": "execute_result"
    }
   ],
   "source": [
    "train = pd.read_csv('train_data.csv')\n",
    "train.head()"
   ]
  },
  {
   "cell_type": "markdown",
   "metadata": {},
   "source": [
    "## Primeira análise dos dados"
   ]
  },
  {
   "cell_type": "markdown",
   "metadata": {},
   "source": [
    "Da visualização dos primeiros 5 itens, percebe-se que as features são as frequências de cada palavra dentro do e-mail e o label é se é spam ou não. A seguir, conseguiremos mais algumas informações do nosso dataset."
   ]
  },
  {
   "cell_type": "code",
   "execution_count": 70,
   "metadata": {},
   "outputs": [
    {
     "data": {
      "text/plain": [
       "(3680, 59)"
      ]
     },
     "execution_count": 70,
     "metadata": {},
     "output_type": "execute_result"
    }
   ],
   "source": [
    "train.shape #retorna o formato do dataset"
   ]
  },
  {
   "cell_type": "markdown",
   "metadata": {},
   "source": [
    "Os dados possuem 3680 observações e 59 colunas (58 features e 1 class variable)"
   ]
  },
  {
   "cell_type": "code",
   "execution_count": 71,
   "metadata": {},
   "outputs": [
    {
     "data": {
      "text/plain": [
       "ham                       2\n",
       "word_freq_table          32\n",
       "word_freq_3d             40\n",
       "word_freq_parts          50\n",
       "word_freq_font           85\n",
       "word_freq_conference     88\n",
       "word_freq_cs             89\n",
       "word_freq_857            91\n",
       "word_freq_415            95\n",
       "word_freq_addresses     105\n",
       "dtype: int64"
      ]
     },
     "execution_count": 71,
     "metadata": {},
     "output_type": "execute_result"
    }
   ],
   "source": [
    "train.nunique().sort_values()[0:10] #retorna o numero de valores únicos da mesma coluna em ordem crescente"
   ]
  },
  {
   "cell_type": "code",
   "execution_count": 72,
   "metadata": {},
   "outputs": [
    {
     "data": {
      "text/plain": [
       "word_freq_table         0.004562\n",
       "word_freq_parts         0.015424\n",
       "char_freq_[             0.017707\n",
       "word_freq_conference    0.030168\n",
       "char_freq_;             0.041071\n",
       "word_freq_cs            0.042106\n",
       "char_freq_#             0.043326\n",
       "word_freq_857           0.045193\n",
       "word_freq_415           0.045853\n",
       "word_freq_addresses     0.047293\n",
       "dtype: float64"
      ]
     },
     "execution_count": 72,
     "metadata": {},
     "output_type": "execute_result"
    }
   ],
   "source": [
    "train.mean().sort_values()[0:10] #retorna a media dos valores das colunas em ordem crescente"
   ]
  },
  {
   "cell_type": "markdown",
   "metadata": {},
   "source": [
    "Para facilitar a análise, vou fazer com que a coluna de ham ao invés de ter os valores True e False tenha valores binários 1 e 0. Além disso, vou separar o dataframe um só de ham e outro só de spam."
   ]
  },
  {
   "cell_type": "code",
   "execution_count": 3,
   "metadata": {},
   "outputs": [],
   "source": [
    "train['ham'] = train['ham'].astype(str)\n",
    "spam = train[train['ham'] == 'False']\n",
    "ham = train[train['ham'] == 'True']\n",
    "\n",
    "#troco true e false por valores binarios\n",
    "train = train.replace(['True', 'False'], [1, 0])"
   ]
  },
  {
   "cell_type": "markdown",
   "metadata": {},
   "source": [
    "## Visualização dos dados"
   ]
  },
  {
   "cell_type": "markdown",
   "metadata": {},
   "source": [
    "Em uma primeira etapa de visualizaço dos dados, vou analisar a média da frequência de cada palavra para spam e ham."
   ]
  },
  {
   "cell_type": "code",
   "execution_count": 74,
   "metadata": {},
   "outputs": [
    {
     "name": "stdout",
     "output_type": "stream",
     "text": [
      "Média de frequência das 10 primeiras palavras para spam: [0.14741077676696984, 0.1685304408677395, 0.4034709587123859, 0.17626312106368086, 0.5144366689992987, 0.17352694191742485, 0.27710986703988794, 0.21391182645206475, 0.1693981805458363, 0.3511756473058086]\n",
      "\n",
      "Média de frequência das 10 primeiras palavras para ham: [0.06937361172812088, 0.2581563749444689, 0.20001332741004, 0.0010972900932918704, 0.188223011994669, 0.04702354509107057, 0.009426921368280761, 0.039777876499333634, 0.03717458907152377, 0.17282096845846293]\n"
     ]
    }
   ],
   "source": [
    "#obtenção das médias das frequências de cada palavra por categoria (spam ou não spam)\n",
    "spam_mean = []\n",
    "ham_mean = []\n",
    "for item in spam.mean():\n",
    "    spam_mean.append(item)\n",
    "for item in ham.mean():\n",
    "    ham_mean.append(item)\n",
    "\n",
    "print(\"Média de frequência das 10 primeiras palavras para spam:\", spam_mean[0:10])\n",
    "print(\"\\nMédia de frequência das 10 primeiras palavras para ham:\", ham_mean[0:10])"
   ]
  },
  {
   "cell_type": "code",
   "execution_count": 171,
   "metadata": {},
   "outputs": [
    {
     "data": {
      "image/png": "[encoded data removed]",
      "text/plain": [
       "<matplotlib.figure.Figure at 0x28296eb9278>"
      ]
     },
     "metadata": {},
     "output_type": "display_data"
    }
   ],
   "source": [
    "plt.plot(spam_mean[0:-5], color = 'r', label = 'spam')\n",
    "plt.plot(ham_mean[0:-5], color = 'b', label = 'ham')\n",
    "plt.title('Frequencia das palavras')\n",
    "\n",
    "red = mpatches.Patch(color='red', label='Spam')\n",
    "blue = mpatches.Patch(color = 'blue', label = 'Ham')\n",
    "plt.legend(handles=[red,blue])\n",
    "\n",
    "plt.show()"
   ]
  },
  {
   "cell_type": "code",
   "execution_count": 172,
   "metadata": {},
   "outputs": [
    {
     "data": {
      "image/png": "[encoded data removed]",
      "text/plain": [
       "<matplotlib.figure.Figure at 0x28296071898>"
      ]
     },
     "metadata": {},
     "output_type": "display_data"
    }
   ],
   "source": [
    "plt.hist(spam_mean[0:-5], bins = 10, color = 'r')\n",
    "plt.hist(ham_mean[0:-5], bins = 10, color = 'b')\n",
    "plt.title('Histograma das frequências')\n",
    "\n",
    "red = mpatches.Patch(color='red', label='Spam')\n",
    "blue = mpatches.Patch(color = 'blue', label = 'Ham')\n",
    "plt.legend(handles=[red,blue])\n",
    "\n",
    "plt.show()"
   ]
  },
  {
   "cell_type": "markdown",
   "metadata": {},
   "source": [
    "Além de visualizar as médias com os gráficos, posso comparar ham e spam usando o método groupby de pandas."
   ]
  },
  {
   "cell_type": "code",
   "execution_count": 77,
   "metadata": {},
   "outputs": [],
   "source": [
    "groupby_ham = train.groupby(['ham']) #criação de um objeto groupby a partir das colunas do dataframe"
   ]
  },
  {
   "cell_type": "code",
   "execution_count": 78,
   "metadata": {},
   "outputs": [
    {
     "data": {
      "text/html": [
       "<div>\n",
       "<style scoped>\n",
       "    .dataframe tbody tr th:only-of-type {\n",
       "        vertical-align: middle;\n",
       "    }\n",
       "\n",
       "    .dataframe tbody tr th {\n",
       "        vertical-align: top;\n",
       "    }\n",
       "\n",
       "    .dataframe thead th {\n",
       "        text-align: right;\n",
       "    }\n",
       "</style>\n",
       "<table border=\"1\" class=\"dataframe\">\n",
       "  <thead>\n",
       "    <tr style=\"text-align: right;\">\n",
       "      <th></th>\n",
       "      <th>word_freq_make</th>\n",
       "      <th>word_freq_address</th>\n",
       "      <th>word_freq_all</th>\n",
       "      <th>word_freq_3d</th>\n",
       "      <th>word_freq_our</th>\n",
       "      <th>word_freq_over</th>\n",
       "      <th>word_freq_remove</th>\n",
       "      <th>word_freq_internet</th>\n",
       "      <th>word_freq_order</th>\n",
       "      <th>word_freq_mail</th>\n",
       "      <th>word_freq_receive</th>\n",
       "      <th>word_freq_will</th>\n",
       "      <th>word_freq_people</th>\n",
       "      <th>word_freq_report</th>\n",
       "      <th>word_freq_addresses</th>\n",
       "      <th>word_freq_free</th>\n",
       "      <th>word_freq_business</th>\n",
       "      <th>word_freq_email</th>\n",
       "      <th>word_freq_you</th>\n",
       "      <th>word_freq_credit</th>\n",
       "      <th>word_freq_your</th>\n",
       "      <th>word_freq_font</th>\n",
       "      <th>word_freq_000</th>\n",
       "      <th>word_freq_money</th>\n",
       "      <th>word_freq_hp</th>\n",
       "      <th>word_freq_hpl</th>\n",
       "      <th>word_freq_george</th>\n",
       "      <th>word_freq_650</th>\n",
       "      <th>word_freq_lab</th>\n",
       "      <th>word_freq_labs</th>\n",
       "      <th>word_freq_telnet</th>\n",
       "      <th>word_freq_857</th>\n",
       "      <th>word_freq_data</th>\n",
       "      <th>word_freq_415</th>\n",
       "      <th>word_freq_85</th>\n",
       "      <th>word_freq_technology</th>\n",
       "      <th>word_freq_1999</th>\n",
       "      <th>word_freq_parts</th>\n",
       "      <th>word_freq_pm</th>\n",
       "      <th>word_freq_direct</th>\n",
       "      <th>word_freq_cs</th>\n",
       "      <th>word_freq_meeting</th>\n",
       "      <th>word_freq_original</th>\n",
       "      <th>word_freq_project</th>\n",
       "      <th>word_freq_re</th>\n",
       "      <th>word_freq_edu</th>\n",
       "      <th>word_freq_table</th>\n",
       "      <th>word_freq_conference</th>\n",
       "      <th>char_freq_;</th>\n",
       "      <th>char_freq_(</th>\n",
       "      <th>char_freq_[</th>\n",
       "      <th>char_freq_!</th>\n",
       "      <th>char_freq_$</th>\n",
       "      <th>char_freq_#</th>\n",
       "      <th>capital_run_length_average</th>\n",
       "      <th>capital_run_length_longest</th>\n",
       "      <th>capital_run_length_total</th>\n",
       "      <th>Id</th>\n",
       "    </tr>\n",
       "    <tr>\n",
       "      <th>ham</th>\n",
       "      <th></th>\n",
       "      <th></th>\n",
       "      <th></th>\n",
       "      <th></th>\n",
       "      <th></th>\n",
       "      <th></th>\n",
       "      <th></th>\n",
       "      <th></th>\n",
       "      <th></th>\n",
       "      <th></th>\n",
       "      <th></th>\n",
       "      <th></th>\n",
       "      <th></th>\n",
       "      <th></th>\n",
       "      <th></th>\n",
       "      <th></th>\n",
       "      <th></th>\n",
       "      <th></th>\n",
       "      <th></th>\n",
       "      <th></th>\n",
       "      <th></th>\n",
       "      <th></th>\n",
       "      <th></th>\n",
       "      <th></th>\n",
       "      <th></th>\n",
       "      <th></th>\n",
       "      <th></th>\n",
       "      <th></th>\n",
       "      <th></th>\n",
       "      <th></th>\n",
       "      <th></th>\n",
       "      <th></th>\n",
       "      <th></th>\n",
       "      <th></th>\n",
       "      <th></th>\n",
       "      <th></th>\n",
       "      <th></th>\n",
       "      <th></th>\n",
       "      <th></th>\n",
       "      <th></th>\n",
       "      <th></th>\n",
       "      <th></th>\n",
       "      <th></th>\n",
       "      <th></th>\n",
       "      <th></th>\n",
       "      <th></th>\n",
       "      <th></th>\n",
       "      <th></th>\n",
       "      <th></th>\n",
       "      <th></th>\n",
       "      <th></th>\n",
       "      <th></th>\n",
       "      <th></th>\n",
       "      <th></th>\n",
       "      <th></th>\n",
       "      <th></th>\n",
       "      <th></th>\n",
       "      <th></th>\n",
       "    </tr>\n",
       "  </thead>\n",
       "  <tbody>\n",
       "    <tr>\n",
       "      <th>0</th>\n",
       "      <td>0.147411</td>\n",
       "      <td>0.168530</td>\n",
       "      <td>0.403471</td>\n",
       "      <td>0.176263</td>\n",
       "      <td>0.514437</td>\n",
       "      <td>0.173527</td>\n",
       "      <td>0.277110</td>\n",
       "      <td>0.213912</td>\n",
       "      <td>0.169398</td>\n",
       "      <td>0.351176</td>\n",
       "      <td>0.119937</td>\n",
       "      <td>0.553856</td>\n",
       "      <td>0.143387</td>\n",
       "      <td>0.082113</td>\n",
       "      <td>0.10774</td>\n",
       "      <td>0.537012</td>\n",
       "      <td>0.274633</td>\n",
       "      <td>0.308971</td>\n",
       "      <td>2.233142</td>\n",
       "      <td>0.208223</td>\n",
       "      <td>1.381603</td>\n",
       "      <td>0.246242</td>\n",
       "      <td>0.237313</td>\n",
       "      <td>0.213506</td>\n",
       "      <td>0.014801</td>\n",
       "      <td>0.007229</td>\n",
       "      <td>0.001700</td>\n",
       "      <td>0.020343</td>\n",
       "      <td>0.000455</td>\n",
       "      <td>0.004514</td>\n",
       "      <td>0.001337</td>\n",
       "      <td>0.000658</td>\n",
       "      <td>0.014913</td>\n",
       "      <td>0.002050</td>\n",
       "      <td>0.006046</td>\n",
       "      <td>0.030462</td>\n",
       "      <td>0.047390</td>\n",
       "      <td>0.005024</td>\n",
       "      <td>0.013128</td>\n",
       "      <td>0.033219</td>\n",
       "      <td>0.000000</td>\n",
       "      <td>0.002512</td>\n",
       "      <td>0.008789</td>\n",
       "      <td>0.005213</td>\n",
       "      <td>0.122806</td>\n",
       "      <td>0.012834</td>\n",
       "      <td>0.000658</td>\n",
       "      <td>0.002008</td>\n",
       "      <td>0.022148</td>\n",
       "      <td>0.110498</td>\n",
       "      <td>0.008519</td>\n",
       "      <td>0.519001</td>\n",
       "      <td>0.173251</td>\n",
       "      <td>0.073404</td>\n",
       "      <td>10.038973</td>\n",
       "      <td>107.273618</td>\n",
       "      <td>479.303009</td>\n",
       "      <td>2280.833450</td>\n",
       "    </tr>\n",
       "    <tr>\n",
       "      <th>1</th>\n",
       "      <td>0.069374</td>\n",
       "      <td>0.258156</td>\n",
       "      <td>0.200013</td>\n",
       "      <td>0.001097</td>\n",
       "      <td>0.188223</td>\n",
       "      <td>0.047024</td>\n",
       "      <td>0.009427</td>\n",
       "      <td>0.039778</td>\n",
       "      <td>0.037175</td>\n",
       "      <td>0.172821</td>\n",
       "      <td>0.022372</td>\n",
       "      <td>0.545269</td>\n",
       "      <td>0.060800</td>\n",
       "      <td>0.046144</td>\n",
       "      <td>0.00892</td>\n",
       "      <td>0.073621</td>\n",
       "      <td>0.046735</td>\n",
       "      <td>0.101857</td>\n",
       "      <td>1.231231</td>\n",
       "      <td>0.008490</td>\n",
       "      <td>0.434807</td>\n",
       "      <td>0.052466</td>\n",
       "      <td>0.007308</td>\n",
       "      <td>0.018734</td>\n",
       "      <td>0.903261</td>\n",
       "      <td>0.436455</td>\n",
       "      <td>1.238072</td>\n",
       "      <td>0.194016</td>\n",
       "      <td>0.157677</td>\n",
       "      <td>0.164016</td>\n",
       "      <td>0.104718</td>\n",
       "      <td>0.073465</td>\n",
       "      <td>0.143207</td>\n",
       "      <td>0.073661</td>\n",
       "      <td>0.170347</td>\n",
       "      <td>0.139609</td>\n",
       "      <td>0.199782</td>\n",
       "      <td>0.022026</td>\n",
       "      <td>0.110036</td>\n",
       "      <td>0.082248</td>\n",
       "      <td>0.068836</td>\n",
       "      <td>0.220138</td>\n",
       "      <td>0.072230</td>\n",
       "      <td>0.110458</td>\n",
       "      <td>0.420413</td>\n",
       "      <td>0.291830</td>\n",
       "      <td>0.007041</td>\n",
       "      <td>0.048045</td>\n",
       "      <td>0.053084</td>\n",
       "      <td>0.155570</td>\n",
       "      <td>0.023539</td>\n",
       "      <td>0.117427</td>\n",
       "      <td>0.012902</td>\n",
       "      <td>0.024232</td>\n",
       "      <td>2.397710</td>\n",
       "      <td>18.269658</td>\n",
       "      <td>158.898267</td>\n",
       "      <td>2307.981786</td>\n",
       "    </tr>\n",
       "  </tbody>\n",
       "</table>\n",
       "</div>"
      ],
      "text/plain": [
       "     word_freq_make  word_freq_address  word_freq_all  word_freq_3d  \\\n",
       "ham                                                                   \n",
       "0          0.147411           0.168530       0.403471      0.176263   \n",
       "1          0.069374           0.258156       0.200013      0.001097   \n",
       "\n",
       "     word_freq_our  word_freq_over  word_freq_remove  word_freq_internet  \\\n",
       "ham                                                                        \n",
       "0         0.514437        0.173527          0.277110            0.213912   \n",
       "1         0.188223        0.047024          0.009427            0.039778   \n",
       "\n",
       "     word_freq_order  word_freq_mail  word_freq_receive  word_freq_will  \\\n",
       "ham                                                                       \n",
       "0           0.169398        0.351176           0.119937        0.553856   \n",
       "1           0.037175        0.172821           0.022372        0.545269   \n",
       "\n",
       "     word_freq_people  word_freq_report  word_freq_addresses  word_freq_free  \\\n",
       "ham                                                                            \n",
       "0            0.143387          0.082113              0.10774        0.537012   \n",
       "1            0.060800          0.046144              0.00892        0.073621   \n",
       "\n",
       "     word_freq_business  word_freq_email  word_freq_you  word_freq_credit  \\\n",
       "ham                                                                         \n",
       "0              0.274633         0.308971       2.233142          0.208223   \n",
       "1              0.046735         0.101857       1.231231          0.008490   \n",
       "\n",
       "     word_freq_your  word_freq_font  word_freq_000  word_freq_money  \\\n",
       "ham                                                                   \n",
       "0          1.381603        0.246242       0.237313         0.213506   \n",
       "1          0.434807        0.052466       0.007308         0.018734   \n",
       "\n",
       "     word_freq_hp  word_freq_hpl  word_freq_george  word_freq_650  \\\n",
       "ham                                                                 \n",
       "0        0.014801       0.007229          0.001700       0.020343   \n",
       "1        0.903261       0.436455          1.238072       0.194016   \n",
       "\n",
       "     word_freq_lab  word_freq_labs  word_freq_telnet  word_freq_857  \\\n",
       "ham                                                                   \n",
       "0         0.000455        0.004514          0.001337       0.000658   \n",
       "1         0.157677        0.164016          0.104718       0.073465   \n",
       "\n",
       "     word_freq_data  word_freq_415  word_freq_85  word_freq_technology  \\\n",
       "ham                                                                      \n",
       "0          0.014913       0.002050      0.006046              0.030462   \n",
       "1          0.143207       0.073661      0.170347              0.139609   \n",
       "\n",
       "     word_freq_1999  word_freq_parts  word_freq_pm  word_freq_direct  \\\n",
       "ham                                                                    \n",
       "0          0.047390         0.005024      0.013128          0.033219   \n",
       "1          0.199782         0.022026      0.110036          0.082248   \n",
       "\n",
       "     word_freq_cs  word_freq_meeting  word_freq_original  word_freq_project  \\\n",
       "ham                                                                           \n",
       "0        0.000000           0.002512            0.008789           0.005213   \n",
       "1        0.068836           0.220138            0.072230           0.110458   \n",
       "\n",
       "     word_freq_re  word_freq_edu  word_freq_table  word_freq_conference  \\\n",
       "ham                                                                       \n",
       "0        0.122806       0.012834         0.000658              0.002008   \n",
       "1        0.420413       0.291830         0.007041              0.048045   \n",
       "\n",
       "     char_freq_;  char_freq_(  char_freq_[  char_freq_!  char_freq_$  \\\n",
       "ham                                                                    \n",
       "0       0.022148     0.110498     0.008519     0.519001     0.173251   \n",
       "1       0.053084     0.155570     0.023539     0.117427     0.012902   \n",
       "\n",
       "     char_freq_#  capital_run_length_average  capital_run_length_longest  \\\n",
       "ham                                                                        \n",
       "0       0.073404                   10.038973                  107.273618   \n",
       "1       0.024232                    2.397710                   18.269658   \n",
       "\n",
       "     capital_run_length_total           Id  \n",
       "ham                                         \n",
       "0                  479.303009  2280.833450  \n",
       "1                  158.898267  2307.981786  "
      ]
     },
     "metadata": {},
     "output_type": "display_data"
    }
   ],
   "source": [
    "#permite a visualização de todas as colunas do meu dataset no jupyter\n",
    "from IPython.display import display\n",
    "pd.options.display.max_columns = None\n",
    "display(groupby_ham.mean())"
   ]
  },
  {
   "cell_type": "markdown",
   "metadata": {},
   "source": [
    "## Feature engineering"
   ]
  },
  {
   "cell_type": "markdown",
   "metadata": {},
   "source": [
    "Agora vou tentar extrair os dados/as features mais relevantes do meu dataset."
   ]
  },
  {
   "cell_type": "markdown",
   "metadata": {},
   "source": [
    "### Matriz de correlação "
   ]
  },
  {
   "cell_type": "markdown",
   "metadata": {},
   "source": [
    "A matriz de correlação é um indicativo do quão relacionada as variáveis estão entre si e com o target ham"
   ]
  },
  {
   "cell_type": "code",
   "execution_count": 79,
   "metadata": {},
   "outputs": [],
   "source": [
    "corr = train.corr()"
   ]
  },
  {
   "cell_type": "code",
   "execution_count": 80,
   "metadata": {},
   "outputs": [
    {
     "data": {
      "text/html": [
       "<div>\n",
       "<style scoped>\n",
       "    .dataframe tbody tr th:only-of-type {\n",
       "        vertical-align: middle;\n",
       "    }\n",
       "\n",
       "    .dataframe tbody tr th {\n",
       "        vertical-align: top;\n",
       "    }\n",
       "\n",
       "    .dataframe thead th {\n",
       "        text-align: right;\n",
       "    }\n",
       "</style>\n",
       "<table border=\"1\" class=\"dataframe\">\n",
       "  <thead>\n",
       "    <tr style=\"text-align: right;\">\n",
       "      <th></th>\n",
       "      <th>word_freq_make</th>\n",
       "      <th>word_freq_address</th>\n",
       "      <th>word_freq_all</th>\n",
       "      <th>word_freq_3d</th>\n",
       "      <th>word_freq_our</th>\n",
       "      <th>word_freq_over</th>\n",
       "      <th>word_freq_remove</th>\n",
       "      <th>word_freq_internet</th>\n",
       "      <th>word_freq_order</th>\n",
       "      <th>word_freq_mail</th>\n",
       "      <th>word_freq_receive</th>\n",
       "      <th>word_freq_will</th>\n",
       "      <th>word_freq_people</th>\n",
       "      <th>word_freq_report</th>\n",
       "      <th>word_freq_addresses</th>\n",
       "      <th>word_freq_free</th>\n",
       "      <th>word_freq_business</th>\n",
       "      <th>word_freq_email</th>\n",
       "      <th>word_freq_you</th>\n",
       "      <th>word_freq_credit</th>\n",
       "      <th>word_freq_your</th>\n",
       "      <th>word_freq_font</th>\n",
       "      <th>word_freq_000</th>\n",
       "      <th>word_freq_money</th>\n",
       "      <th>word_freq_hp</th>\n",
       "      <th>word_freq_hpl</th>\n",
       "      <th>word_freq_george</th>\n",
       "      <th>word_freq_650</th>\n",
       "      <th>word_freq_lab</th>\n",
       "      <th>word_freq_labs</th>\n",
       "      <th>word_freq_telnet</th>\n",
       "      <th>word_freq_857</th>\n",
       "      <th>word_freq_data</th>\n",
       "      <th>word_freq_415</th>\n",
       "      <th>word_freq_85</th>\n",
       "      <th>word_freq_technology</th>\n",
       "      <th>word_freq_1999</th>\n",
       "      <th>word_freq_parts</th>\n",
       "      <th>word_freq_pm</th>\n",
       "      <th>word_freq_direct</th>\n",
       "      <th>word_freq_cs</th>\n",
       "      <th>word_freq_meeting</th>\n",
       "      <th>word_freq_original</th>\n",
       "      <th>word_freq_project</th>\n",
       "      <th>word_freq_re</th>\n",
       "      <th>word_freq_edu</th>\n",
       "      <th>word_freq_table</th>\n",
       "      <th>word_freq_conference</th>\n",
       "      <th>char_freq_;</th>\n",
       "      <th>char_freq_(</th>\n",
       "      <th>char_freq_[</th>\n",
       "      <th>char_freq_!</th>\n",
       "      <th>char_freq_$</th>\n",
       "      <th>char_freq_#</th>\n",
       "      <th>capital_run_length_average</th>\n",
       "      <th>capital_run_length_longest</th>\n",
       "      <th>capital_run_length_total</th>\n",
       "      <th>ham</th>\n",
       "      <th>Id</th>\n",
       "    </tr>\n",
       "  </thead>\n",
       "  <tbody>\n",
       "    <tr>\n",
       "      <th>word_freq_make</th>\n",
       "      <td>1.000000</td>\n",
       "      <td>-0.013974</td>\n",
       "      <td>0.076656</td>\n",
       "      <td>0.006541</td>\n",
       "      <td>0.023160</td>\n",
       "      <td>0.057049</td>\n",
       "      <td>0.000911</td>\n",
       "      <td>-0.005773</td>\n",
       "      <td>0.112229</td>\n",
       "      <td>0.033424</td>\n",
       "      <td>0.164645</td>\n",
       "      <td>0.105594</td>\n",
       "      <td>0.067216</td>\n",
       "      <td>0.029311</td>\n",
       "      <td>0.029519</td>\n",
       "      <td>0.064370</td>\n",
       "      <td>0.077827</td>\n",
       "      <td>0.068541</td>\n",
       "      <td>0.122546</td>\n",
       "      <td>0.032594</td>\n",
       "      <td>0.187010</td>\n",
       "      <td>-0.020811</td>\n",
       "      <td>0.136615</td>\n",
       "      <td>0.190361</td>\n",
       "      <td>-0.071458</td>\n",
       "      <td>-0.064121</td>\n",
       "      <td>-0.062505</td>\n",
       "      <td>-0.047135</td>\n",
       "      <td>-0.041281</td>\n",
       "      <td>-0.050976</td>\n",
       "      <td>-0.039047</td>\n",
       "      <td>-0.029691</td>\n",
       "      <td>-0.037852</td>\n",
       "      <td>-0.026122</td>\n",
       "      <td>-0.039912</td>\n",
       "      <td>-0.051991</td>\n",
       "      <td>-0.057833</td>\n",
       "      <td>-0.009987</td>\n",
       "      <td>-0.009861</td>\n",
       "      <td>-0.032649</td>\n",
       "      <td>-0.014158</td>\n",
       "      <td>-0.027064</td>\n",
       "      <td>-0.017844</td>\n",
       "      <td>-0.022559</td>\n",
       "      <td>-0.042356</td>\n",
       "      <td>-0.044976</td>\n",
       "      <td>0.009520</td>\n",
       "      <td>-0.012360</td>\n",
       "      <td>-0.025695</td>\n",
       "      <td>-0.027604</td>\n",
       "      <td>-0.033050</td>\n",
       "      <td>0.059160</td>\n",
       "      <td>0.109941</td>\n",
       "      <td>-0.008510</td>\n",
       "      <td>0.045359</td>\n",
       "      <td>0.058111</td>\n",
       "      <td>0.084878</td>\n",
       "      <td>-0.127528</td>\n",
       "      <td>0.004666</td>\n",
       "    </tr>\n",
       "    <tr>\n",
       "      <th>word_freq_address</th>\n",
       "      <td>-0.013974</td>\n",
       "      <td>1.000000</td>\n",
       "      <td>-0.035004</td>\n",
       "      <td>-0.007068</td>\n",
       "      <td>-0.028245</td>\n",
       "      <td>-0.026792</td>\n",
       "      <td>0.006406</td>\n",
       "      <td>-0.016762</td>\n",
       "      <td>-0.004134</td>\n",
       "      <td>0.030859</td>\n",
       "      <td>-0.007649</td>\n",
       "      <td>-0.043118</td>\n",
       "      <td>-0.018045</td>\n",
       "      <td>-0.010791</td>\n",
       "      <td>0.001819</td>\n",
       "      <td>-0.009404</td>\n",
       "      <td>-0.017721</td>\n",
       "      <td>0.032803</td>\n",
       "      <td>-0.056778</td>\n",
       "      <td>-0.017996</td>\n",
       "      <td>-0.018782</td>\n",
       "      <td>-0.007781</td>\n",
       "      <td>-0.024014</td>\n",
       "      <td>0.002846</td>\n",
       "      <td>-0.043425</td>\n",
       "      <td>-0.038420</td>\n",
       "      <td>-0.029872</td>\n",
       "      <td>-0.028981</td>\n",
       "      <td>-0.021028</td>\n",
       "      <td>-0.027311</td>\n",
       "      <td>-0.016561</td>\n",
       "      <td>-0.003918</td>\n",
       "      <td>-0.024373</td>\n",
       "      <td>-0.004983</td>\n",
       "      <td>-0.022906</td>\n",
       "      <td>-0.028376</td>\n",
       "      <td>-0.022184</td>\n",
       "      <td>-0.009536</td>\n",
       "      <td>-0.017936</td>\n",
       "      <td>-0.013535</td>\n",
       "      <td>-0.015090</td>\n",
       "      <td>-0.026291</td>\n",
       "      <td>0.001315</td>\n",
       "      <td>-0.020441</td>\n",
       "      <td>-0.015923</td>\n",
       "      <td>-0.023487</td>\n",
       "      <td>-0.010072</td>\n",
       "      <td>-0.014399</td>\n",
       "      <td>-0.005406</td>\n",
       "      <td>-0.051148</td>\n",
       "      <td>-0.019552</td>\n",
       "      <td>-0.014227</td>\n",
       "      <td>-0.011218</td>\n",
       "      <td>-0.004215</td>\n",
       "      <td>0.000377</td>\n",
       "      <td>-0.003184</td>\n",
       "      <td>-0.025153</td>\n",
       "      <td>0.032665</td>\n",
       "      <td>-0.006546</td>\n",
       "    </tr>\n",
       "    <tr>\n",
       "      <th>word_freq_all</th>\n",
       "      <td>0.076656</td>\n",
       "      <td>-0.035004</td>\n",
       "      <td>1.000000</td>\n",
       "      <td>-0.019639</td>\n",
       "      <td>0.066843</td>\n",
       "      <td>0.091734</td>\n",
       "      <td>0.037647</td>\n",
       "      <td>0.012201</td>\n",
       "      <td>0.093231</td>\n",
       "      <td>0.033102</td>\n",
       "      <td>0.054538</td>\n",
       "      <td>0.089757</td>\n",
       "      <td>0.035248</td>\n",
       "      <td>0.009768</td>\n",
       "      <td>0.125393</td>\n",
       "      <td>0.061848</td>\n",
       "      <td>0.029085</td>\n",
       "      <td>0.126461</td>\n",
       "      <td>0.135951</td>\n",
       "      <td>0.045440</td>\n",
       "      <td>0.164100</td>\n",
       "      <td>-0.035222</td>\n",
       "      <td>0.129483</td>\n",
       "      <td>0.043422</td>\n",
       "      <td>-0.082552</td>\n",
       "      <td>-0.058666</td>\n",
       "      <td>-0.103909</td>\n",
       "      <td>-0.041438</td>\n",
       "      <td>-0.055762</td>\n",
       "      <td>-0.035303</td>\n",
       "      <td>-0.034574</td>\n",
       "      <td>-0.059952</td>\n",
       "      <td>-0.049905</td>\n",
       "      <td>-0.059336</td>\n",
       "      <td>-0.044265</td>\n",
       "      <td>-0.043243</td>\n",
       "      <td>-0.078808</td>\n",
       "      <td>0.036934</td>\n",
       "      <td>-0.019095</td>\n",
       "      <td>-0.046073</td>\n",
       "      <td>-0.032253</td>\n",
       "      <td>0.005012</td>\n",
       "      <td>-0.046093</td>\n",
       "      <td>-0.053803</td>\n",
       "      <td>-0.050119</td>\n",
       "      <td>-0.058389</td>\n",
       "      <td>-0.007499</td>\n",
       "      <td>-0.028270</td>\n",
       "      <td>-0.030522</td>\n",
       "      <td>-0.006366</td>\n",
       "      <td>-0.032121</td>\n",
       "      <td>0.108741</td>\n",
       "      <td>0.085535</td>\n",
       "      <td>0.008170</td>\n",
       "      <td>0.094282</td>\n",
       "      <td>0.100430</td>\n",
       "      <td>0.070105</td>\n",
       "      <td>-0.194983</td>\n",
       "      <td>0.032176</td>\n",
       "    </tr>\n",
       "    <tr>\n",
       "      <th>word_freq_3d</th>\n",
       "      <td>0.006541</td>\n",
       "      <td>-0.007068</td>\n",
       "      <td>-0.019639</td>\n",
       "      <td>1.000000</td>\n",
       "      <td>0.001192</td>\n",
       "      <td>-0.009594</td>\n",
       "      <td>0.013936</td>\n",
       "      <td>0.003564</td>\n",
       "      <td>-0.002184</td>\n",
       "      <td>-0.003528</td>\n",
       "      <td>-0.013678</td>\n",
       "      <td>-0.018468</td>\n",
       "      <td>-0.012977</td>\n",
       "      <td>0.004090</td>\n",
       "      <td>0.004458</td>\n",
       "      <td>0.006437</td>\n",
       "      <td>-0.005606</td>\n",
       "      <td>0.018444</td>\n",
       "      <td>-0.006919</td>\n",
       "      <td>-0.006915</td>\n",
       "      <td>0.005064</td>\n",
       "      <td>0.033898</td>\n",
       "      <td>0.017604</td>\n",
       "      <td>0.026104</td>\n",
       "      <td>-0.015649</td>\n",
       "      <td>-0.014303</td>\n",
       "      <td>-0.010856</td>\n",
       "      <td>-0.010673</td>\n",
       "      <td>-0.007938</td>\n",
       "      <td>-0.010858</td>\n",
       "      <td>-0.007605</td>\n",
       "      <td>-0.006782</td>\n",
       "      <td>-0.008249</td>\n",
       "      <td>-0.006814</td>\n",
       "      <td>-0.005628</td>\n",
       "      <td>-0.006009</td>\n",
       "      <td>-0.006918</td>\n",
       "      <td>-0.002871</td>\n",
       "      <td>-0.003743</td>\n",
       "      <td>-0.007602</td>\n",
       "      <td>-0.005944</td>\n",
       "      <td>-0.008473</td>\n",
       "      <td>-0.009496</td>\n",
       "      <td>-0.006238</td>\n",
       "      <td>-0.012891</td>\n",
       "      <td>-0.009596</td>\n",
       "      <td>-0.003550</td>\n",
       "      <td>-0.001039</td>\n",
       "      <td>-0.002425</td>\n",
       "      <td>-0.010957</td>\n",
       "      <td>-0.007479</td>\n",
       "      <td>-0.003653</td>\n",
       "      <td>0.009133</td>\n",
       "      <td>0.000533</td>\n",
       "      <td>0.005358</td>\n",
       "      <td>0.016938</td>\n",
       "      <td>0.023434</td>\n",
       "      <td>-0.059354</td>\n",
       "      <td>-0.021531</td>\n",
       "    </tr>\n",
       "    <tr>\n",
       "      <th>word_freq_our</th>\n",
       "      <td>0.023160</td>\n",
       "      <td>-0.028245</td>\n",
       "      <td>0.066843</td>\n",
       "      <td>0.001192</td>\n",
       "      <td>1.000000</td>\n",
       "      <td>0.049377</td>\n",
       "      <td>0.146824</td>\n",
       "      <td>0.030255</td>\n",
       "      <td>0.025203</td>\n",
       "      <td>0.033507</td>\n",
       "      <td>0.075927</td>\n",
       "      <td>0.060950</td>\n",
       "      <td>0.030995</td>\n",
       "      <td>0.011387</td>\n",
       "      <td>0.046169</td>\n",
       "      <td>0.078574</td>\n",
       "      <td>0.135221</td>\n",
       "      <td>0.049994</td>\n",
       "      <td>0.104479</td>\n",
       "      <td>0.041819</td>\n",
       "      <td>0.134844</td>\n",
       "      <td>-0.019770</td>\n",
       "      <td>0.056089</td>\n",
       "      <td>-0.001681</td>\n",
       "      <td>-0.065359</td>\n",
       "      <td>-0.072506</td>\n",
       "      <td>-0.083513</td>\n",
       "      <td>-0.059388</td>\n",
       "      <td>0.004599</td>\n",
       "      <td>-0.048686</td>\n",
       "      <td>-0.038099</td>\n",
       "      <td>-0.026349</td>\n",
       "      <td>-0.022517</td>\n",
       "      <td>-0.026224</td>\n",
       "      <td>-0.044208</td>\n",
       "      <td>-0.042385</td>\n",
       "      <td>-0.076262</td>\n",
       "      <td>0.142609</td>\n",
       "      <td>-0.045432</td>\n",
       "      <td>-0.020854</td>\n",
       "      <td>-0.047303</td>\n",
       "      <td>0.101476</td>\n",
       "      <td>-0.053176</td>\n",
       "      <td>0.021722</td>\n",
       "      <td>-0.039789</td>\n",
       "      <td>-0.078416</td>\n",
       "      <td>-0.025658</td>\n",
       "      <td>-0.027911</td>\n",
       "      <td>-0.035840</td>\n",
       "      <td>-0.045330</td>\n",
       "      <td>-0.025790</td>\n",
       "      <td>0.015789</td>\n",
       "      <td>0.037120</td>\n",
       "      <td>-0.009517</td>\n",
       "      <td>0.048087</td>\n",
       "      <td>0.045400</td>\n",
       "      <td>0.002320</td>\n",
       "      <td>-0.227924</td>\n",
       "      <td>-0.001257</td>\n",
       "    </tr>\n",
       "  </tbody>\n",
       "</table>\n",
       "</div>"
      ],
      "text/plain": [
       "                   word_freq_make  word_freq_address  word_freq_all  \\\n",
       "word_freq_make           1.000000          -0.013974       0.076656   \n",
       "word_freq_address       -0.013974           1.000000      -0.035004   \n",
       "word_freq_all            0.076656          -0.035004       1.000000   \n",
       "word_freq_3d             0.006541          -0.007068      -0.019639   \n",
       "word_freq_our            0.023160          -0.028245       0.066843   \n",
       "\n",
       "                   word_freq_3d  word_freq_our  word_freq_over  \\\n",
       "word_freq_make         0.006541       0.023160        0.057049   \n",
       "word_freq_address     -0.007068      -0.028245       -0.026792   \n",
       "word_freq_all         -0.019639       0.066843        0.091734   \n",
       "word_freq_3d           1.000000       0.001192       -0.009594   \n",
       "word_freq_our          0.001192       1.000000        0.049377   \n",
       "\n",
       "                   word_freq_remove  word_freq_internet  word_freq_order  \\\n",
       "word_freq_make             0.000911           -0.005773         0.112229   \n",
       "word_freq_address          0.006406           -0.016762        -0.004134   \n",
       "word_freq_all              0.037647            0.012201         0.093231   \n",
       "word_freq_3d               0.013936            0.003564        -0.002184   \n",
       "word_freq_our              0.146824            0.030255         0.025203   \n",
       "\n",
       "                   word_freq_mail  word_freq_receive  word_freq_will  \\\n",
       "word_freq_make           0.033424           0.164645        0.105594   \n",
       "word_freq_address        0.030859          -0.007649       -0.043118   \n",
       "word_freq_all            0.033102           0.054538        0.089757   \n",
       "word_freq_3d            -0.003528          -0.013678       -0.018468   \n",
       "word_freq_our            0.033507           0.075927        0.060950   \n",
       "\n",
       "                   word_freq_people  word_freq_report  word_freq_addresses  \\\n",
       "word_freq_make             0.067216          0.029311             0.029519   \n",
       "word_freq_address         -0.018045         -0.010791             0.001819   \n",
       "word_freq_all              0.035248          0.009768             0.125393   \n",
       "word_freq_3d              -0.012977          0.004090             0.004458   \n",
       "word_freq_our              0.030995          0.011387             0.046169   \n",
       "\n",
       "                   word_freq_free  word_freq_business  word_freq_email  \\\n",
       "word_freq_make           0.064370            0.077827         0.068541   \n",
       "word_freq_address       -0.009404           -0.017721         0.032803   \n",
       "word_freq_all            0.061848            0.029085         0.126461   \n",
       "word_freq_3d             0.006437           -0.005606         0.018444   \n",
       "word_freq_our            0.078574            0.135221         0.049994   \n",
       "\n",
       "                   word_freq_you  word_freq_credit  word_freq_your  \\\n",
       "word_freq_make          0.122546          0.032594        0.187010   \n",
       "word_freq_address      -0.056778         -0.017996       -0.018782   \n",
       "word_freq_all           0.135951          0.045440        0.164100   \n",
       "word_freq_3d           -0.006919         -0.006915        0.005064   \n",
       "word_freq_our           0.104479          0.041819        0.134844   \n",
       "\n",
       "                   word_freq_font  word_freq_000  word_freq_money  \\\n",
       "word_freq_make          -0.020811       0.136615         0.190361   \n",
       "word_freq_address       -0.007781      -0.024014         0.002846   \n",
       "word_freq_all           -0.035222       0.129483         0.043422   \n",
       "word_freq_3d             0.033898       0.017604         0.026104   \n",
       "word_freq_our           -0.019770       0.056089        -0.001681   \n",
       "\n",
       "                   word_freq_hp  word_freq_hpl  word_freq_george  \\\n",
       "word_freq_make        -0.071458      -0.064121         -0.062505   \n",
       "word_freq_address     -0.043425      -0.038420         -0.029872   \n",
       "word_freq_all         -0.082552      -0.058666         -0.103909   \n",
       "word_freq_3d          -0.015649      -0.014303         -0.010856   \n",
       "word_freq_our         -0.065359      -0.072506         -0.083513   \n",
       "\n",
       "                   word_freq_650  word_freq_lab  word_freq_labs  \\\n",
       "word_freq_make         -0.047135      -0.041281       -0.050976   \n",
       "word_freq_address      -0.028981      -0.021028       -0.027311   \n",
       "word_freq_all          -0.041438      -0.055762       -0.035303   \n",
       "word_freq_3d           -0.010673      -0.007938       -0.010858   \n",
       "word_freq_our          -0.059388       0.004599       -0.048686   \n",
       "\n",
       "                   word_freq_telnet  word_freq_857  word_freq_data  \\\n",
       "word_freq_make            -0.039047      -0.029691       -0.037852   \n",
       "word_freq_address         -0.016561      -0.003918       -0.024373   \n",
       "word_freq_all             -0.034574      -0.059952       -0.049905   \n",
       "word_freq_3d              -0.007605      -0.006782       -0.008249   \n",
       "word_freq_our             -0.038099      -0.026349       -0.022517   \n",
       "\n",
       "                   word_freq_415  word_freq_85  word_freq_technology  \\\n",
       "word_freq_make         -0.026122     -0.039912             -0.051991   \n",
       "word_freq_address      -0.004983     -0.022906             -0.028376   \n",
       "word_freq_all          -0.059336     -0.044265             -0.043243   \n",
       "word_freq_3d           -0.006814     -0.005628             -0.006009   \n",
       "word_freq_our          -0.026224     -0.044208             -0.042385   \n",
       "\n",
       "                   word_freq_1999  word_freq_parts  word_freq_pm  \\\n",
       "word_freq_make          -0.057833        -0.009987     -0.009861   \n",
       "word_freq_address       -0.022184        -0.009536     -0.017936   \n",
       "word_freq_all           -0.078808         0.036934     -0.019095   \n",
       "word_freq_3d            -0.006918        -0.002871     -0.003743   \n",
       "word_freq_our           -0.076262         0.142609     -0.045432   \n",
       "\n",
       "                   word_freq_direct  word_freq_cs  word_freq_meeting  \\\n",
       "word_freq_make            -0.032649     -0.014158          -0.027064   \n",
       "word_freq_address         -0.013535     -0.015090          -0.026291   \n",
       "word_freq_all             -0.046073     -0.032253           0.005012   \n",
       "word_freq_3d              -0.007602     -0.005944          -0.008473   \n",
       "word_freq_our             -0.020854     -0.047303           0.101476   \n",
       "\n",
       "                   word_freq_original  word_freq_project  word_freq_re  \\\n",
       "word_freq_make              -0.017844          -0.022559     -0.042356   \n",
       "word_freq_address            0.001315          -0.020441     -0.015923   \n",
       "word_freq_all               -0.046093          -0.053803     -0.050119   \n",
       "word_freq_3d                -0.009496          -0.006238     -0.012891   \n",
       "word_freq_our               -0.053176           0.021722     -0.039789   \n",
       "\n",
       "                   word_freq_edu  word_freq_table  word_freq_conference  \\\n",
       "word_freq_make         -0.044976         0.009520             -0.012360   \n",
       "word_freq_address      -0.023487        -0.010072             -0.014399   \n",
       "word_freq_all          -0.058389        -0.007499             -0.028270   \n",
       "word_freq_3d           -0.009596        -0.003550             -0.001039   \n",
       "word_freq_our          -0.078416        -0.025658             -0.027911   \n",
       "\n",
       "                   char_freq_;  char_freq_(  char_freq_[  char_freq_!  \\\n",
       "word_freq_make       -0.025695    -0.027604    -0.033050     0.059160   \n",
       "word_freq_address    -0.005406    -0.051148    -0.019552    -0.014227   \n",
       "word_freq_all        -0.030522    -0.006366    -0.032121     0.108741   \n",
       "word_freq_3d         -0.002425    -0.010957    -0.007479    -0.003653   \n",
       "word_freq_our        -0.035840    -0.045330    -0.025790     0.015789   \n",
       "\n",
       "                   char_freq_$  char_freq_#  capital_run_length_average  \\\n",
       "word_freq_make        0.109941    -0.008510                    0.045359   \n",
       "word_freq_address    -0.011218    -0.004215                    0.000377   \n",
       "word_freq_all         0.085535     0.008170                    0.094282   \n",
       "word_freq_3d          0.009133     0.000533                    0.005358   \n",
       "word_freq_our         0.037120    -0.009517                    0.048087   \n",
       "\n",
       "                   capital_run_length_longest  capital_run_length_total  \\\n",
       "word_freq_make                       0.058111                  0.084878   \n",
       "word_freq_address                   -0.003184                 -0.025153   \n",
       "word_freq_all                        0.100430                  0.070105   \n",
       "word_freq_3d                         0.016938                  0.023434   \n",
       "word_freq_our                        0.045400                  0.002320   \n",
       "\n",
       "                        ham        Id  \n",
       "word_freq_make    -0.127528  0.004666  \n",
       "word_freq_address  0.032665 -0.006546  \n",
       "word_freq_all     -0.194983  0.032176  \n",
       "word_freq_3d      -0.059354 -0.021531  \n",
       "word_freq_our     -0.227924 -0.001257  "
      ]
     },
     "execution_count": 80,
     "metadata": {},
     "output_type": "execute_result"
    }
   ],
   "source": [
    "corr.head()"
   ]
  },
  {
   "cell_type": "code",
   "execution_count": 81,
   "metadata": {},
   "outputs": [
    {
     "data": {
      "image/png": "[encoded data removed]",
      "text/plain": [
       "<matplotlib.figure.Figure at 0x282961175f8>"
      ]
     },
     "metadata": {},
     "output_type": "display_data"
    }
   ],
   "source": [
    "sns.heatmap(corr, mask=np.zeros_like(corr, dtype=np.bool)) #correlação entre todas as variáveis\n",
    "plt.title(\"Correlacao entre as variaveis\")\n",
    "plt.show()"
   ]
  },
  {
   "cell_type": "code",
   "execution_count": 82,
   "metadata": {},
   "outputs": [
    {
     "data": {
      "image/png": "[encoded data removed]",
      "text/plain": [
       "<matplotlib.figure.Figure at 0x28296ae4828>"
      ]
     },
     "metadata": {},
     "output_type": "display_data"
    }
   ],
   "source": [
    "corr['ham'].plot(color = 'b')\n",
    "plt.title('Correlação das variáveis com o ham')\n",
    "plt.show()"
   ]
  },
  {
   "cell_type": "markdown",
   "metadata": {},
   "source": [
    "É fácil perceber que algumas variáveis apresentam alta correlação, enquanto outras apresentam baixa. Além dos gráficos, é possível analisar também os valores numéricos dessa correlação."
   ]
  },
  {
   "cell_type": "code",
   "execution_count": 83,
   "metadata": {},
   "outputs": [
    {
     "data": {
      "text/plain": [
       "word_freq_your               -0.386209\n",
       "word_freq_000                -0.330788\n",
       "char_freq_$                  -0.326111\n",
       "word_freq_remove             -0.325675\n",
       "word_freq_you                -0.280411\n",
       "word_freq_free               -0.275930\n",
       "word_freq_business           -0.258169\n",
       "capital_run_length_total     -0.250509\n",
       "word_freq_order              -0.242665\n",
       "word_freq_receive            -0.235185\n",
       "word_freq_our                -0.227924\n",
       "char_freq_!                  -0.224435\n",
       "word_freq_over               -0.222251\n",
       "word_freq_credit             -0.219851\n",
       "word_freq_money              -0.207387\n",
       "capital_run_length_longest   -0.206227\n",
       "word_freq_internet           -0.206066\n",
       "word_freq_all                -0.194983\n",
       "word_freq_addresses          -0.191673\n",
       "word_freq_email              -0.188924\n",
       "word_freq_people             -0.132616\n",
       "word_freq_mail               -0.129478\n",
       "word_freq_make               -0.127528\n",
       "capital_run_length_average   -0.110157\n",
       "word_freq_font               -0.089653\n",
       "char_freq_#                  -0.069380\n",
       "word_freq_3d                 -0.059354\n",
       "word_freq_report             -0.049788\n",
       "word_freq_will               -0.004761\n",
       "Id                            0.009994\n",
       "word_freq_address             0.032665\n",
       "word_freq_parts               0.033768\n",
       "word_freq_table               0.050372\n",
       "char_freq_;                   0.058599\n",
       "char_freq_[                   0.065686\n",
       "word_freq_direct              0.069602\n",
       "word_freq_conference          0.076721\n",
       "char_freq_(                   0.081794\n",
       "word_freq_project             0.096527\n",
       "word_freq_cs                  0.098561\n",
       "word_freq_415                 0.108707\n",
       "word_freq_857                 0.110809\n",
       "word_freq_data                0.114990\n",
       "word_freq_pm                  0.123369\n",
       "word_freq_telnet              0.123488\n",
       "word_freq_lab                 0.131442\n",
       "word_freq_original            0.134664\n",
       "word_freq_meeting             0.137878\n",
       "word_freq_technology          0.138444\n",
       "word_freq_re                  0.139413\n",
       "word_freq_85                  0.146508\n",
       "word_freq_edu                 0.147973\n",
       "word_freq_650                 0.157037\n",
       "word_freq_1999                0.172061\n",
       "word_freq_labs                0.173786\n",
       "word_freq_george              0.179672\n",
       "word_freq_hpl                 0.237217\n",
       "word_freq_hp                  0.257081\n",
       "ham                           1.000000\n",
       "Name: ham, dtype: float64"
      ]
     },
     "execution_count": 83,
     "metadata": {},
     "output_type": "execute_result"
    }
   ],
   "source": [
    "corr['ham'].sort_values()"
   ]
  },
  {
   "cell_type": "markdown",
   "metadata": {},
   "source": [
    "A maior correlação (em módulo) é de 0.38."
   ]
  },
  {
   "cell_type": "markdown",
   "metadata": {},
   "source": [
    "### Criando novas colunas com valores binários "
   ]
  },
  {
   "cell_type": "markdown",
   "metadata": {},
   "source": [
    "A correlação das variáveis com o ham é relativamente baixa, então vou mudar a forma dos meus dados para tentar aumentá-la. Usarei valores binários para identificar valores maiores ou menores que a media da coluna."
   ]
  },
  {
   "cell_type": "code",
   "execution_count": 4,
   "metadata": {},
   "outputs": [],
   "source": [
    "#criando novas colunas no dataframe com esses valores binários\n",
    "for column in train.columns:\n",
    "    binary = []\n",
    "    for item in train[column]:\n",
    "        if item > train[column].mean():\n",
    "            binary.append(1)\n",
    "        else:\n",
    "            binary.append(0)\n",
    "    train[column + '_avg'] = binary"
   ]
  },
  {
   "cell_type": "code",
   "execution_count": 5,
   "metadata": {},
   "outputs": [
    {
     "data": {
      "text/html": [
       "<div>\n",
       "<style scoped>\n",
       "    .dataframe tbody tr th:only-of-type {\n",
       "        vertical-align: middle;\n",
       "    }\n",
       "\n",
       "    .dataframe tbody tr th {\n",
       "        vertical-align: top;\n",
       "    }\n",
       "\n",
       "    .dataframe thead th {\n",
       "        text-align: right;\n",
       "    }\n",
       "</style>\n",
       "<table border=\"1\" class=\"dataframe\">\n",
       "  <thead>\n",
       "    <tr style=\"text-align: right;\">\n",
       "      <th></th>\n",
       "      <th>ham</th>\n",
       "      <th>Id</th>\n",
       "      <th>word_freq_make_avg</th>\n",
       "      <th>word_freq_address_avg</th>\n",
       "      <th>word_freq_all_avg</th>\n",
       "      <th>word_freq_3d_avg</th>\n",
       "      <th>word_freq_our_avg</th>\n",
       "      <th>word_freq_over_avg</th>\n",
       "      <th>word_freq_remove_avg</th>\n",
       "      <th>word_freq_internet_avg</th>\n",
       "      <th>...</th>\n",
       "      <th>word_freq_conference_avg</th>\n",
       "      <th>char_freq_;_avg</th>\n",
       "      <th>char_freq_(_avg</th>\n",
       "      <th>char_freq_[_avg</th>\n",
       "      <th>char_freq_!_avg</th>\n",
       "      <th>char_freq_$_avg</th>\n",
       "      <th>char_freq_#_avg</th>\n",
       "      <th>capital_run_length_average_avg</th>\n",
       "      <th>capital_run_length_longest_avg</th>\n",
       "      <th>capital_run_length_total_avg</th>\n",
       "    </tr>\n",
       "  </thead>\n",
       "  <tbody>\n",
       "    <tr>\n",
       "      <th>0</th>\n",
       "      <td>1</td>\n",
       "      <td>1947</td>\n",
       "      <td>0</td>\n",
       "      <td>1</td>\n",
       "      <td>0</td>\n",
       "      <td>0</td>\n",
       "      <td>0</td>\n",
       "      <td>0</td>\n",
       "      <td>0</td>\n",
       "      <td>0</td>\n",
       "      <td>...</td>\n",
       "      <td>0</td>\n",
       "      <td>0</td>\n",
       "      <td>0</td>\n",
       "      <td>0</td>\n",
       "      <td>0</td>\n",
       "      <td>0</td>\n",
       "      <td>0</td>\n",
       "      <td>0</td>\n",
       "      <td>0</td>\n",
       "      <td>0</td>\n",
       "    </tr>\n",
       "    <tr>\n",
       "      <th>1</th>\n",
       "      <td>0</td>\n",
       "      <td>2159</td>\n",
       "      <td>0</td>\n",
       "      <td>0</td>\n",
       "      <td>1</td>\n",
       "      <td>0</td>\n",
       "      <td>1</td>\n",
       "      <td>0</td>\n",
       "      <td>0</td>\n",
       "      <td>0</td>\n",
       "      <td>...</td>\n",
       "      <td>0</td>\n",
       "      <td>0</td>\n",
       "      <td>1</td>\n",
       "      <td>0</td>\n",
       "      <td>1</td>\n",
       "      <td>0</td>\n",
       "      <td>0</td>\n",
       "      <td>0</td>\n",
       "      <td>0</td>\n",
       "      <td>0</td>\n",
       "    </tr>\n",
       "    <tr>\n",
       "      <th>2</th>\n",
       "      <td>0</td>\n",
       "      <td>4223</td>\n",
       "      <td>0</td>\n",
       "      <td>0</td>\n",
       "      <td>0</td>\n",
       "      <td>0</td>\n",
       "      <td>0</td>\n",
       "      <td>0</td>\n",
       "      <td>0</td>\n",
       "      <td>1</td>\n",
       "      <td>...</td>\n",
       "      <td>0</td>\n",
       "      <td>0</td>\n",
       "      <td>0</td>\n",
       "      <td>0</td>\n",
       "      <td>1</td>\n",
       "      <td>0</td>\n",
       "      <td>0</td>\n",
       "      <td>0</td>\n",
       "      <td>0</td>\n",
       "      <td>0</td>\n",
       "    </tr>\n",
       "    <tr>\n",
       "      <th>3</th>\n",
       "      <td>1</td>\n",
       "      <td>2624</td>\n",
       "      <td>0</td>\n",
       "      <td>0</td>\n",
       "      <td>0</td>\n",
       "      <td>0</td>\n",
       "      <td>0</td>\n",
       "      <td>0</td>\n",
       "      <td>0</td>\n",
       "      <td>0</td>\n",
       "      <td>...</td>\n",
       "      <td>0</td>\n",
       "      <td>0</td>\n",
       "      <td>0</td>\n",
       "      <td>0</td>\n",
       "      <td>1</td>\n",
       "      <td>0</td>\n",
       "      <td>0</td>\n",
       "      <td>0</td>\n",
       "      <td>0</td>\n",
       "      <td>0</td>\n",
       "    </tr>\n",
       "    <tr>\n",
       "      <th>4</th>\n",
       "      <td>1</td>\n",
       "      <td>2743</td>\n",
       "      <td>0</td>\n",
       "      <td>0</td>\n",
       "      <td>0</td>\n",
       "      <td>0</td>\n",
       "      <td>1</td>\n",
       "      <td>0</td>\n",
       "      <td>0</td>\n",
       "      <td>0</td>\n",
       "      <td>...</td>\n",
       "      <td>0</td>\n",
       "      <td>0</td>\n",
       "      <td>0</td>\n",
       "      <td>0</td>\n",
       "      <td>0</td>\n",
       "      <td>0</td>\n",
       "      <td>0</td>\n",
       "      <td>0</td>\n",
       "      <td>0</td>\n",
       "      <td>0</td>\n",
       "    </tr>\n",
       "  </tbody>\n",
       "</table>\n",
       "<p>5 rows × 59 columns</p>\n",
       "</div>"
      ],
      "text/plain": [
       "   ham    Id  word_freq_make_avg  word_freq_address_avg  word_freq_all_avg  \\\n",
       "0    1  1947                   0                      1                  0   \n",
       "1    0  2159                   0                      0                  1   \n",
       "2    0  4223                   0                      0                  0   \n",
       "3    1  2624                   0                      0                  0   \n",
       "4    1  2743                   0                      0                  0   \n",
       "\n",
       "   word_freq_3d_avg  word_freq_our_avg  word_freq_over_avg  \\\n",
       "0                 0                  0                   0   \n",
       "1                 0                  1                   0   \n",
       "2                 0                  0                   0   \n",
       "3                 0                  0                   0   \n",
       "4                 0                  1                   0   \n",
       "\n",
       "   word_freq_remove_avg  word_freq_internet_avg              ...               \\\n",
       "0                     0                       0              ...                \n",
       "1                     0                       0              ...                \n",
       "2                     0                       1              ...                \n",
       "3                     0                       0              ...                \n",
       "4                     0                       0              ...                \n",
       "\n",
       "   word_freq_conference_avg  char_freq_;_avg  char_freq_(_avg  \\\n",
       "0                         0                0                0   \n",
       "1                         0                0                1   \n",
       "2                         0                0                0   \n",
       "3                         0                0                0   \n",
       "4                         0                0                0   \n",
       "\n",
       "   char_freq_[_avg  char_freq_!_avg  char_freq_$_avg  char_freq_#_avg  \\\n",
       "0                0                0                0                0   \n",
       "1                0                1                0                0   \n",
       "2                0                1                0                0   \n",
       "3                0                1                0                0   \n",
       "4                0                0                0                0   \n",
       "\n",
       "   capital_run_length_average_avg  capital_run_length_longest_avg  \\\n",
       "0                               0                               0   \n",
       "1                               0                               0   \n",
       "2                               0                               0   \n",
       "3                               0                               0   \n",
       "4                               0                               0   \n",
       "\n",
       "   capital_run_length_total_avg  \n",
       "0                             0  \n",
       "1                             0  \n",
       "2                             0  \n",
       "3                             0  \n",
       "4                             0  \n",
       "\n",
       "[5 rows x 59 columns]"
      ]
     },
     "execution_count": 5,
     "metadata": {},
     "output_type": "execute_result"
    }
   ],
   "source": [
    "train_avg = train[train.columns[57:]] #seleciono apenas as novas colunas criadas com o codigo acima\n",
    "train_avg = train_avg.drop(labels = ['Id_avg', 'ham_avg'], axis = 1)\n",
    "train_avg.head()"
   ]
  },
  {
   "cell_type": "markdown",
   "metadata": {},
   "source": [
    "Agora vou plotar a matriz de correlação com esses novos dados, considerando valores binários que indicam se o valor é maior ou menor que a média."
   ]
  },
  {
   "cell_type": "code",
   "execution_count": 86,
   "metadata": {},
   "outputs": [
    {
     "data": {
      "text/plain": [
       "Text(0.5,1,'Correlação entre as features binárias')"
      ]
     },
     "execution_count": 86,
     "metadata": {},
     "output_type": "execute_result"
    },
    {
     "data": {
      "image/png": "[encoded data removed]",
      "text/plain": [
       "<matplotlib.figure.Figure at 0x28294568eb8>"
      ]
     },
     "metadata": {},
     "output_type": "display_data"
    }
   ],
   "source": [
    "sns.heatmap(train_avg.corr(), mask=np.zeros_like(train_avg.corr(), dtype=np.bool))\n",
    "plt.title('Correlação entre as features binárias')"
   ]
  },
  {
   "cell_type": "code",
   "execution_count": 87,
   "metadata": {},
   "outputs": [
    {
     "data": {
      "text/plain": [
       "char_freq_$_avg                  -0.545690\n",
       "char_freq_!_avg                  -0.494134\n",
       "word_freq_your_avg               -0.484209\n",
       "word_freq_remove_avg             -0.467407\n",
       "word_freq_free_avg               -0.454362\n",
       "word_freq_money_avg              -0.445464\n",
       "capital_run_length_longest_avg   -0.420894\n",
       "word_freq_000_avg                -0.414538\n",
       "word_freq_our_avg                -0.364880\n",
       "capital_run_length_average_avg   -0.352642\n",
       "word_freq_receive_avg            -0.348543\n",
       "word_freq_all_avg                -0.339761\n",
       "word_freq_you_avg                -0.334814\n",
       "word_freq_business_avg           -0.332218\n",
       "word_freq_credit_avg             -0.326257\n",
       "word_freq_internet_avg           -0.324180\n",
       "word_freq_over_avg               -0.309978\n",
       "capital_run_length_total_avg     -0.299510\n",
       "word_freq_order_avg              -0.294143\n",
       "word_freq_email_avg              -0.267161\n",
       "word_freq_mail_avg               -0.261782\n",
       "word_freq_addresses_avg          -0.251165\n",
       "word_freq_address_avg            -0.246977\n",
       "word_freq_make_avg               -0.243135\n",
       "word_freq_people_avg             -0.235237\n",
       "char_freq_#_avg                  -0.197874\n",
       "word_freq_font_avg               -0.143124\n",
       "word_freq_report_avg             -0.141502\n",
       "word_freq_will_avg               -0.131656\n",
       "word_freq_3d_avg                 -0.088550\n",
       "word_freq_direct_avg             -0.013402\n",
       "word_freq_parts_avg               0.008907\n",
       "Id                                0.009994\n",
       "word_freq_table_avg               0.031038\n",
       "char_freq_;_avg                   0.088060\n",
       "word_freq_original_avg            0.100733\n",
       "char_freq_[_avg                   0.106168\n",
       "char_freq_(_avg                   0.121357\n",
       "word_freq_re_avg                  0.129793\n",
       "word_freq_conference_avg          0.131758\n",
       "word_freq_pm_avg                  0.136659\n",
       "word_freq_cs_avg                  0.141813\n",
       "word_freq_project_avg             0.152113\n",
       "word_freq_data_avg                0.154016\n",
       "word_freq_415_avg                 0.155294\n",
       "word_freq_857_avg                 0.167238\n",
       "word_freq_technology_avg          0.167350\n",
       "word_freq_meeting_avg             0.191650\n",
       "word_freq_telnet_avg              0.204019\n",
       "word_freq_650_avg                 0.222955\n",
       "word_freq_lab_avg                 0.223693\n",
       "word_freq_85_avg                  0.227970\n",
       "word_freq_edu_avg                 0.233113\n",
       "word_freq_labs_avg                0.241723\n",
       "word_freq_1999_avg                0.249196\n",
       "word_freq_george_avg              0.293799\n",
       "word_freq_hpl_avg                 0.340105\n",
       "word_freq_hp_avg                  0.371910\n",
       "ham                               1.000000\n",
       "Name: ham, dtype: float64"
      ]
     },
     "execution_count": 87,
     "metadata": {},
     "output_type": "execute_result"
    }
   ],
   "source": [
    "train_avg.corr()['ham'].sort_values()"
   ]
  },
  {
   "cell_type": "markdown",
   "metadata": {},
   "source": [
    "É possível perceber que a correlação entre as features e o ham aumentou. Com essa nova informação, vou selecionar do meu dataset apenas as features com maior correlação para fazer o meu modelo."
   ]
  },
  {
   "cell_type": "code",
   "execution_count": 11,
   "metadata": {},
   "outputs": [],
   "source": [
    "train_c = train[['ham', 'char_freq_$_avg', 'char_freq_!_avg', 'word_freq_your_avg', 'word_freq_remove_avg', 'word_freq_free_avg', 'word_freq_money_avg', 'word_freq_000_avg', 'word_freq_our_avg', 'word_freq_receive_avg', 'word_freq_all_avg', 'word_freq_you_avg','word_freq_business_avg', 'word_freq_credit_avg', 'word_freq_internet_avg', 'word_freq_you_avg', 'word_freq_your', 'word_freq_000', 'char_freq_$', 'word_freq_remove']]\n"
   ]
  },
  {
   "cell_type": "code",
   "execution_count": 7,
   "metadata": {},
   "outputs": [
    {
     "data": {
      "image/png": "[encoded data removed]",
      "text/plain": [
       "<matplotlib.figure.Figure at 0x20e944bec18>"
      ]
     },
     "metadata": {},
     "output_type": "display_data"
    }
   ],
   "source": [
    "sns.heatmap(train_c.corr(), mask=np.zeros_like(train_c.corr(), dtype=np.bool))\n",
    "plt.title('Maiores correlações entre as features binárias')\n",
    "\n",
    "plt.show()"
   ]
  },
  {
   "cell_type": "code",
   "execution_count": 90,
   "metadata": {},
   "outputs": [
    {
     "data": {
      "text/plain": [
       "char_freq_$_avg          -0.545690\n",
       "char_freq_!_avg          -0.494134\n",
       "word_freq_your_avg       -0.484209\n",
       "word_freq_remove_avg     -0.467407\n",
       "word_freq_free_avg       -0.454362\n",
       "word_freq_money_avg      -0.445464\n",
       "word_freq_000_avg        -0.414538\n",
       "word_freq_your           -0.386209\n",
       "word_freq_our_avg        -0.364880\n",
       "word_freq_receive_avg    -0.348543\n",
       "word_freq_all_avg        -0.339761\n",
       "word_freq_you_avg        -0.334814\n",
       "word_freq_you_avg        -0.334814\n",
       "word_freq_business_avg   -0.332218\n",
       "word_freq_000            -0.330788\n",
       "word_freq_credit_avg     -0.326257\n",
       "char_freq_$              -0.326111\n",
       "word_freq_remove         -0.325675\n",
       "word_freq_internet_avg   -0.324180\n",
       "ham                       1.000000\n",
       "Name: ham, dtype: float64"
      ]
     },
     "execution_count": 90,
     "metadata": {},
     "output_type": "execute_result"
    }
   ],
   "source": [
    "train_c.corr()['ham'].sort_values()"
   ]
  },
  {
   "cell_type": "markdown",
   "metadata": {},
   "source": [
    "## Criação de um modelo"
   ]
  },
  {
   "cell_type": "code",
   "execution_count": null,
   "metadata": {},
   "outputs": [],
   "source": [
    "train_c = train[['ham', 'char_freq_$_avg', 'char_freq_!_avg', 'word_freq_your_avg', 'word_freq_remove_avg', 'word_freq_free_avg', 'word_freq_money_avg', 'word_freq_000_avg', 'word_freq_our_avg', 'word_freq_you_avg','word_freq_credit_avg', 'word_freq_business_avg''word_freq_internet_avg', 'word_freq_you_avg', 'capital_run_length_total_avg', 'word_freq_your', 'word_freq_000', 'char_freq_$', 'word_freq_remove']]\n"
   ]
  },
  {
   "cell_type": "markdown",
   "metadata": {},
   "source": [
    "Primeiro vou separar os meus dados nas features(x) e no target(y)"
   ]
  },
  {
   "cell_type": "code",
   "execution_count": 23,
   "metadata": {},
   "outputs": [],
   "source": [
    "x_train = train_c.drop(['ham'], axis = 1)\n",
    "y_train = train_c['ham']"
   ]
  },
  {
   "cell_type": "markdown",
   "metadata": {},
   "source": [
    "Criação de um scorer F3 para usar na validação cruzada."
   ]
  },
  {
   "cell_type": "code",
   "execution_count": 24,
   "metadata": {},
   "outputs": [],
   "source": [
    "from sklearn.metrics import fbeta_score, make_scorer\n",
    "f3 = make_scorer(fbeta_score, beta=3)"
   ]
  },
  {
   "cell_type": "markdown",
   "metadata": {},
   "source": [
    "### Modelo de naive bayes "
   ]
  },
  {
   "cell_type": "markdown",
   "metadata": {},
   "source": [
    "O naive bayes de bernoulli foi usado devido ao fato de as features e o target serem binários."
   ]
  },
  {
   "cell_type": "code",
   "execution_count": 25,
   "metadata": {},
   "outputs": [
    {
     "name": "stdout",
     "output_type": "stream",
     "text": [
      "Score F3 Bernoulli:  0.9266097306319334\n"
     ]
    },
    {
     "data": {
      "text/plain": [
       "BernoulliNB(alpha=1e-06, binarize=0.0, class_prior=None, fit_prior=True)"
      ]
     },
     "execution_count": 25,
     "metadata": {},
     "output_type": "execute_result"
    }
   ],
   "source": [
    "from sklearn.naive_bayes import BernoulliNB\n",
    "from sklearn.model_selection import cross_val_score\n",
    "\n",
    "bernoulli = BernoulliNB(alpha = 0.000001)\n",
    "\n",
    "print('Score F3 Bernoulli: ', np.mean(cross_val_score(bernoulli, x_train, y_train, scoring = f3, cv = 5)))\n",
    "\n",
    "bernoulli.fit(x_train, y_train)"
   ]
  },
  {
   "cell_type": "markdown",
   "metadata": {},
   "source": [
    "### Matriz de confusão "
   ]
  },
  {
   "cell_type": "markdown",
   "metadata": {},
   "source": [
    "Além de avaliar o F3, vou olhar também a matriz de confusão do meu classificador."
   ]
  },
  {
   "cell_type": "code",
   "execution_count": 15,
   "metadata": {},
   "outputs": [],
   "source": [
    "from sklearn.model_selection import cross_val_predict\n",
    "from sklearn.metrics import confusion_matrix\n",
    "\n",
    "y_pred = cross_val_predict(bernoulli, x_train, y_train, cv=5)\n",
    "confusion = confusion_matrix(y_train, y_pred)"
   ]
  },
  {
   "cell_type": "code",
   "execution_count": 16,
   "metadata": {},
   "outputs": [
    {
     "name": "stdout",
     "output_type": "stream",
     "text": [
      "[[1148  281]\n",
      " [ 139 2112]]\n"
     ]
    }
   ],
   "source": [
    "print(confusion)"
   ]
  },
  {
   "cell_type": "markdown",
   "metadata": {},
   "source": [
    "A matriz de confusão do sklearn é montada da seguinte forma :\n",
    "\n",
    "          True\n",
    "            0   TN   FP\n",
    "\n",
    "            1   FN   TP\n",
    "\n",
    "                0    1    Predicted\n",
    "         \n",
    "Assim os rates podem ser calculados manualmente (true positive rate = 2112/(2112+139) e false positive rate = 281/(281+1148)) ou com o auxílio de uma ferramente do sklearn voltada para fazer a curva ROC."
   ]
  },
  {
   "cell_type": "code",
   "execution_count": 31,
   "metadata": {},
   "outputs": [],
   "source": [
    "from sklearn.metrics import roc_curve"
   ]
  },
  {
   "cell_type": "code",
   "execution_count": 97,
   "metadata": {},
   "outputs": [
    {
     "name": "stdout",
     "output_type": "stream",
     "text": [
      "False positive rate: 0.1966410076976907\n",
      "True positive rate: 0.938249666814749\n"
     ]
    }
   ],
   "source": [
    "fpr, tpr, threshold = roc_curve(y_train, y_pred)\n",
    "print('False positive rate:', fpr[1])\n",
    "print('True positive rate:', tpr[1])"
   ]
  },
  {
   "cell_type": "markdown",
   "metadata": {},
   "source": [
    "### Curva ROC"
   ]
  },
  {
   "cell_type": "markdown",
   "metadata": {},
   "source": [
    "Para avaliar a curva ROC antes vou separar o meu dataset em dois: um de treino e um para validação."
   ]
  },
  {
   "cell_type": "code",
   "execution_count": 98,
   "metadata": {},
   "outputs": [],
   "source": [
    "from sklearn.model_selection import train_test_split\n",
    "\n",
    "x_train2, x_val, y_train2, y_val = train_test_split(x_train, y_train, test_size = 0.25)"
   ]
  },
  {
   "cell_type": "markdown",
   "metadata": {},
   "source": [
    "Depois de separa-lo, vou refazer o fit do meu classificador e predizer não os labels, mas as probabilidades de ser cada label."
   ]
  },
  {
   "cell_type": "code",
   "execution_count": 100,
   "metadata": {},
   "outputs": [
    {
     "data": {
      "text/plain": [
       "BernoulliNB(alpha=1e-06, binarize=0.0, class_prior=None, fit_prior=True)"
      ]
     },
     "execution_count": 100,
     "metadata": {},
     "output_type": "execute_result"
    }
   ],
   "source": [
    "bernoulli.fit(x_train2, y_train2)"
   ]
  },
  {
   "cell_type": "code",
   "execution_count": 101,
   "metadata": {},
   "outputs": [],
   "source": [
    "pred_prob = bernoulli.predict_proba(x_val)"
   ]
  },
  {
   "cell_type": "markdown",
   "metadata": {},
   "source": [
    "Com essas probabilidades é possível montar um dataframe para entender melhor o seu significado e o funcionamento do meu classificador."
   ]
  },
  {
   "cell_type": "code",
   "execution_count": 145,
   "metadata": {},
   "outputs": [
    {
     "data": {
      "text/html": [
       "<div>\n",
       "<style scoped>\n",
       "    .dataframe tbody tr th:only-of-type {\n",
       "        vertical-align: middle;\n",
       "    }\n",
       "\n",
       "    .dataframe tbody tr th {\n",
       "        vertical-align: top;\n",
       "    }\n",
       "\n",
       "    .dataframe thead th {\n",
       "        text-align: right;\n",
       "    }\n",
       "</style>\n",
       "<table border=\"1\" class=\"dataframe\">\n",
       "  <thead>\n",
       "    <tr style=\"text-align: right;\">\n",
       "      <th></th>\n",
       "      <th>Prob Spam (0)</th>\n",
       "      <th>Prob Ham (1)</th>\n",
       "      <th>Real</th>\n",
       "    </tr>\n",
       "  </thead>\n",
       "  <tbody>\n",
       "    <tr>\n",
       "      <th>0</th>\n",
       "      <td>0.001244</td>\n",
       "      <td>0.998756</td>\n",
       "      <td>1.0</td>\n",
       "    </tr>\n",
       "    <tr>\n",
       "      <th>1</th>\n",
       "      <td>0.001740</td>\n",
       "      <td>0.998260</td>\n",
       "      <td>0.0</td>\n",
       "    </tr>\n",
       "    <tr>\n",
       "      <th>2</th>\n",
       "      <td>0.599064</td>\n",
       "      <td>0.400936</td>\n",
       "      <td>0.0</td>\n",
       "    </tr>\n",
       "    <tr>\n",
       "      <th>3</th>\n",
       "      <td>0.016219</td>\n",
       "      <td>0.983781</td>\n",
       "      <td>1.0</td>\n",
       "    </tr>\n",
       "    <tr>\n",
       "      <th>4</th>\n",
       "      <td>0.975995</td>\n",
       "      <td>0.024005</td>\n",
       "      <td>0.0</td>\n",
       "    </tr>\n",
       "  </tbody>\n",
       "</table>\n",
       "</div>"
      ],
      "text/plain": [
       "   Prob Spam (0)  Prob Ham (1)  Real\n",
       "0       0.001244      0.998756   1.0\n",
       "1       0.001740      0.998260   0.0\n",
       "2       0.599064      0.400936   0.0\n",
       "3       0.016219      0.983781   1.0\n",
       "4       0.975995      0.024005   0.0"
      ]
     },
     "execution_count": 145,
     "metadata": {},
     "output_type": "execute_result"
    }
   ],
   "source": [
    "scores = pd.DataFrame(pred_prob)\n",
    "scores.columns = ['Prob Spam (0)', 'Prob Ham (1)']\n",
    "scores['Real'] = y_val\n",
    "scores = scores.fillna(value = 0)\n",
    "scores.head()"
   ]
  },
  {
   "cell_type": "markdown",
   "metadata": {},
   "source": [
    "Agora que já tenho tudo isso, é possível montar a curva ROC."
   ]
  },
  {
   "cell_type": "code",
   "execution_count": 149,
   "metadata": {},
   "outputs": [],
   "source": [
    "fpr, tpr, thresholds = roc_curve(y_val, pred_prob[:, 1])"
   ]
  },
  {
   "cell_type": "code",
   "execution_count": 170,
   "metadata": {},
   "outputs": [
    {
     "data": {
      "image/png": "[encoded data removed]",
      "text/plain": [
       "<matplotlib.figure.Figure at 0x28296f03160>"
      ]
     },
     "metadata": {},
     "output_type": "display_data"
    }
   ],
   "source": [
    "plt.figure()\n",
    "\n",
    "plt.plot(fpr, tpr, color ='blue')\n",
    "plt.plot([0,1], [0,1], color = 'red', linestyle = '--')\n",
    "plt.plot([0,0], [0,1], [1,1], color = 'green')\n",
    "plt.xlabel('False Positive Rate')\n",
    "plt.ylabel('True Positive Rate')\n",
    "plt.title('Curva ROC - Classificador Naive Bayes')\n",
    "\n",
    "\n",
    "red = mpatches.Patch(color='red', label='Pior classificador')\n",
    "green = mpatches.Patch(color = 'green', label = 'Melhor classificador')\n",
    "blue = mpatches.Patch(color = 'blue', label = 'Classificador obtido')\n",
    "plt.legend(handles=[red, green, blue])\n",
    "\n",
    "plt.show()\n"
   ]
  },
  {
   "cell_type": "markdown",
   "metadata": {},
   "source": [
    "## Modelo de KNN"
   ]
  },
  {
   "cell_type": "markdown",
   "metadata": {},
   "source": [
    "Antes de implementar o modelo de KNN, vou analisar como a quantidade de neighbors ajuda no score do meu modelo."
   ]
  },
  {
   "cell_type": "code",
   "execution_count": 33,
   "metadata": {},
   "outputs": [
    {
     "name": "stdout",
     "output_type": "stream",
     "text": [
      "1 0.9176292026187853\n",
      "2 0.8444096110473609\n",
      "3 0.9390368147675765\n",
      "4 0.919104269931805\n",
      "5 0.9498545970069501\n",
      "6 0.9398251699482355\n",
      "7 0.9535031139942444\n",
      "8 0.9459497427283908\n",
      "9 0.9563855569416994\n",
      "10 0.9526807133285043\n",
      "11 0.9564712959365673\n",
      "12 0.9540674635282732\n",
      "13 0.9560732678145992\n",
      "14 0.9546754108628001\n",
      "15 0.9575721848567454\n",
      "16 0.9574949851866841\n",
      "17 0.9591780356022579\n",
      "18 0.957928924890312\n",
      "19 0.9607544523360151\n",
      "20 0.9579464371148412\n",
      "21 0.9617060224964856\n",
      "22 0.9598805302171375\n",
      "23 0.9635558256265752\n",
      "24 0.9618324713151137\n",
      "25 0.962697485653301\n",
      "26 0.9617496813580374\n",
      "27 0.9641234591758078\n",
      "28 0.9627827584645214\n",
      "29 0.9634781772400579\n",
      "30 0.9628143901517507\n",
      "31 0.9633245147211318\n",
      "32 0.9625625867188312\n",
      "33 0.9622434147215037\n",
      "34 0.9608331241634636\n",
      "35 0.9611606429175366\n",
      "36 0.9589029749653936\n",
      "37 0.9607654372397475\n",
      "38 0.9589209684530049\n",
      "39 0.9601629055536683\n"
     ]
    }
   ],
   "source": [
    "from sklearn.neighbors import KNeighborsClassifier\n",
    "\n",
    "for i in range(1, 40):\n",
    "    knn = KNeighborsClassifier(n_neighbors = i, p = 2)\n",
    "    print(i, np.mean(cross_val_score(knn, x_train, y_train, scoring = f3, cv = 5)))"
   ]
  },
  {
   "cell_type": "markdown",
   "metadata": {},
   "source": [
    "Escolho K = 23, que me deu o maior f3 (0.9635)"
   ]
  },
  {
   "cell_type": "code",
   "execution_count": 150,
   "metadata": {},
   "outputs": [
    {
     "data": {
      "text/plain": [
       "KNeighborsClassifier(algorithm='auto', leaf_size=30, metric='minkowski',\n",
       "           metric_params=None, n_jobs=1, n_neighbors=37, p=1,\n",
       "           weights='uniform')"
      ]
     },
     "execution_count": 150,
     "metadata": {},
     "output_type": "execute_result"
    }
   ],
   "source": [
    "knn = KNeighborsClassifier(n_neighbors = 37, p = 1)\n",
    "knn.fit(x_train, y_train)"
   ]
  },
  {
   "cell_type": "markdown",
   "metadata": {},
   "source": [
    "## Unindo os dois classificadores "
   ]
  },
  {
   "cell_type": "markdown",
   "metadata": {},
   "source": [
    "Além de analisar os classificadores indivualmente, vou uní-los para tentar obter um score melhor. "
   ]
  },
  {
   "cell_type": "code",
   "execution_count": 34,
   "metadata": {
    "scrolled": true
   },
   "outputs": [
    {
     "name": "stderr",
     "output_type": "stream",
     "text": [
      "C:\\Users\\Beatriz Passanezi\\Anaconda3\\lib\\site-packages\\sklearn\\preprocessing\\label.py:151: DeprecationWarning: The truth value of an empty array is ambiguous. Returning False, but in future this will result in an error. Use `array.size > 0` to check that an array is not empty.\n",
      "  if diff:\n",
      "C:\\Users\\Beatriz Passanezi\\Anaconda3\\lib\\site-packages\\sklearn\\preprocessing\\label.py:151: DeprecationWarning: The truth value of an empty array is ambiguous. Returning False, but in future this will result in an error. Use `array.size > 0` to check that an array is not empty.\n",
      "  if diff:\n",
      "C:\\Users\\Beatriz Passanezi\\Anaconda3\\lib\\site-packages\\sklearn\\preprocessing\\label.py:151: DeprecationWarning: The truth value of an empty array is ambiguous. Returning False, but in future this will result in an error. Use `array.size > 0` to check that an array is not empty.\n",
      "  if diff:\n"
     ]
    },
    {
     "name": "stdout",
     "output_type": "stream",
     "text": [
      "0.9622873844360198\n"
     ]
    },
    {
     "name": "stderr",
     "output_type": "stream",
     "text": [
      "C:\\Users\\Beatriz Passanezi\\Anaconda3\\lib\\site-packages\\sklearn\\preprocessing\\label.py:151: DeprecationWarning: The truth value of an empty array is ambiguous. Returning False, but in future this will result in an error. Use `array.size > 0` to check that an array is not empty.\n",
      "  if diff:\n",
      "C:\\Users\\Beatriz Passanezi\\Anaconda3\\lib\\site-packages\\sklearn\\preprocessing\\label.py:151: DeprecationWarning: The truth value of an empty array is ambiguous. Returning False, but in future this will result in an error. Use `array.size > 0` to check that an array is not empty.\n",
      "  if diff:\n"
     ]
    },
    {
     "data": {
      "text/plain": [
       "VotingClassifier(estimators=[('bernoulli', BernoulliNB(alpha=1e-06, binarize=0.0, class_prior=None, fit_prior=True)), ('knn', KNeighborsClassifier(algorithm='auto', leaf_size=30, metric='minkowski',\n",
       "           metric_params=None, n_jobs=1, n_neighbors=39, p=2,\n",
       "           weights='uniform'))],\n",
       "         flatten_transform=None, n_jobs=1, voting='soft', weights=[2, 5])"
      ]
     },
     "execution_count": 34,
     "metadata": {},
     "output_type": "execute_result"
    }
   ],
   "source": [
    "from sklearn.ensemble import VotingClassifier\n",
    "\n",
    "combine = VotingClassifier(estimators=[('bernoulli', bernoulli), ('knn', knn)], voting='soft', weights = [2,5])\n",
    "print(np.mean(cross_val_score(combine, x_train, y_train, scoring = f3, cv = 5)))\n",
    "\n",
    "combine.fit(x_train, y_train)\n"
   ]
  },
  {
   "cell_type": "markdown",
   "metadata": {},
   "source": [
    "Com os dois classificadores, consegui um fbeta um pouco maior do que só o de Bernoulli"
   ]
  },
  {
   "cell_type": "markdown",
   "metadata": {},
   "source": [
    "## Banco de testes "
   ]
  },
  {
   "cell_type": "markdown",
   "metadata": {},
   "source": [
    "Vou realizar o mesmo tratamento feito cmo meus dados de treino com os dados de teste para, depois, fazer a minha previsão."
   ]
  },
  {
   "cell_type": "code",
   "execution_count": 158,
   "metadata": {},
   "outputs": [],
   "source": [
    "test = pd.read_csv('test_features.csv')\n"
   ]
  },
  {
   "cell_type": "code",
   "execution_count": 159,
   "metadata": {},
   "outputs": [],
   "source": [
    "for column in test.columns:\n",
    "    binary = []\n",
    "    for item in test[column]:\n",
    "        if item > test[column].mean():\n",
    "            binary.append(1)\n",
    "        else:\n",
    "            binary.append(0)\n",
    "    test[column + '_avg'] = binary"
   ]
  },
  {
   "cell_type": "code",
   "execution_count": 161,
   "metadata": {},
   "outputs": [],
   "source": [
    "test = test[['char_freq_$_avg', 'char_freq_!_avg', 'word_freq_your_avg', 'word_freq_remove_avg', 'word_freq_free_avg', 'word_freq_money_avg', 'word_freq_000_avg', 'word_freq_our_avg', 'word_freq_receive_avg', 'word_freq_all_avg', 'word_freq_you_avg','word_freq_business_avg', 'word_freq_credit_avg', 'word_freq_internet_avg', 'word_freq_you_avg', 'word_freq_your', 'word_freq_000', 'char_freq_$', 'word_freq_remove']]"
   ]
  },
  {
   "cell_type": "markdown",
   "metadata": {},
   "source": [
    "Agora que fiz o tratamento, vou só verificar se o meu arquivo de treino possui o mesmo numero de colunas do meu arquivo de teste."
   ]
  },
  {
   "cell_type": "code",
   "execution_count": 162,
   "metadata": {},
   "outputs": [
    {
     "data": {
      "text/plain": [
       "(3680, 19)"
      ]
     },
     "execution_count": 162,
     "metadata": {},
     "output_type": "execute_result"
    }
   ],
   "source": [
    "x_train.shape"
   ]
  },
  {
   "cell_type": "code",
   "execution_count": 163,
   "metadata": {},
   "outputs": [
    {
     "data": {
      "text/plain": [
       "(921, 19)"
      ]
     },
     "execution_count": 163,
     "metadata": {},
     "output_type": "execute_result"
    }
   ],
   "source": [
    "test.shape"
   ]
  },
  {
   "cell_type": "markdown",
   "metadata": {},
   "source": [
    "Os dois possuem o mesmo numero de colunas, então posso fazer a previsão."
   ]
  },
  {
   "cell_type": "code",
   "execution_count": 164,
   "metadata": {},
   "outputs": [
    {
     "name": "stderr",
     "output_type": "stream",
     "text": [
      "C:\\Users\\Beatriz Passanezi\\Anaconda3\\lib\\site-packages\\sklearn\\preprocessing\\label.py:151: DeprecationWarning: The truth value of an empty array is ambiguous. Returning False, but in future this will result in an error. Use `array.size > 0` to check that an array is not empty.\n",
      "  if diff:\n"
     ]
    }
   ],
   "source": [
    "predict_combine = combine.predict(test)\n",
    "predict_bernoulli = bernoulli.predict(test)\n",
    "predict_knn = knn.predict(test)"
   ]
  },
  {
   "cell_type": "markdown",
   "metadata": {},
   "source": [
    "Criação de um novo dataframe com os targets previstos e criação de um arquivo csv com eles."
   ]
  },
  {
   "cell_type": "code",
   "execution_count": 165,
   "metadata": {},
   "outputs": [],
   "source": [
    "sample = pd.read_csv('sample_submission_1.csv')\n",
    "submit = sample.drop(['ham'], axis = 1)\n",
    "submit['ham'] = predict_combine\n",
    "submit = submit.set_index('Id')\n",
    "submit.head()\n",
    "submit.to_csv('submission_c4.csv')"
   ]
  },
  {
   "cell_type": "code",
   "execution_count": 166,
   "metadata": {},
   "outputs": [],
   "source": [
    "sample = pd.read_csv('sample_submission_1.csv')\n",
    "submit = sample.drop(['ham'], axis = 1)\n",
    "submit['ham'] = predict_bernoulli\n",
    "submit = submit.set_index('Id')\n",
    "submit.head()\n",
    "submit.to_csv('submission_b4.csv')"
   ]
  },
  {
   "cell_type": "code",
   "execution_count": 167,
   "metadata": {},
   "outputs": [],
   "source": [
    "sample = pd.read_csv('sample_submission_1.csv')\n",
    "submit = sample.drop(['ham'], axis = 1)\n",
    "submit['ham'] = predict_knn\n",
    "submit = submit.set_index('Id')\n",
    "submit.head()\n",
    "submit.to_csv('submission_k4.csv')"
   ]
  }
 ],
 "metadata": {
  "kernelspec": {
   "display_name": "Python 3",
   "language": "python",
   "name": "python3"
  },
  "language_info": {
   "codemirror_mode": {
    "name": "ipython",
    "version": 3
   },
   "file_extension": ".py",
   "mimetype": "text/x-python",
   "name": "python",
   "nbconvert_exporter": "python",
   "pygments_lexer": "ipython3",
   "version": "3.6.4"
  }
 },
 "nbformat": 4,
 "nbformat_minor": 2
}
